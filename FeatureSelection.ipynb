{
 "cells": [
  {
   "cell_type": "code",
   "execution_count": 2,
   "metadata": {
    "collapsed": true
   },
   "outputs": [],
   "source": [
    "import pandas as pd"
   ]
  },
  {
   "cell_type": "code",
   "execution_count": 3,
   "metadata": {
    "collapsed": true
   },
   "outputs": [],
   "source": [
    "data = pd.read_csv('data.csv')"
   ]
  },
  {
   "cell_type": "code",
   "execution_count": 4,
   "metadata": {
    "collapsed": false
   },
   "outputs": [
    {
     "data": {
      "text/html": [
       "<div>\n",
       "<style scoped>\n",
       "    .dataframe tbody tr th:only-of-type {\n",
       "        vertical-align: middle;\n",
       "    }\n",
       "\n",
       "    .dataframe tbody tr th {\n",
       "        vertical-align: top;\n",
       "    }\n",
       "\n",
       "    .dataframe thead th {\n",
       "        text-align: right;\n",
       "    }\n",
       "</style>\n",
       "<table border=\"1\" class=\"dataframe\">\n",
       "  <thead>\n",
       "    <tr style=\"text-align: right;\">\n",
       "      <th></th>\n",
       "      <th>Song ID</th>\n",
       "      <th>ZCR</th>\n",
       "      <th>Energy</th>\n",
       "      <th>Entropy of Energy</th>\n",
       "      <th>Spectral Centroid</th>\n",
       "      <th>Spectral Spread</th>\n",
       "      <th>Spectral Entropy</th>\n",
       "      <th>Spectral Flux</th>\n",
       "      <th>Spectral Rolloff</th>\n",
       "      <th>MFCC.1</th>\n",
       "      <th>...</th>\n",
       "      <th>CV.7</th>\n",
       "      <th>CV.8</th>\n",
       "      <th>CV.9</th>\n",
       "      <th>CV.10</th>\n",
       "      <th>CV.11</th>\n",
       "      <th>Chroma Deviation</th>\n",
       "      <th>Valence</th>\n",
       "      <th>Arousal</th>\n",
       "      <th>Unnormalised Valence</th>\n",
       "      <th>Unnormalised Arousal</th>\n",
       "    </tr>\n",
       "  </thead>\n",
       "  <tbody>\n",
       "    <tr>\n",
       "      <th>0</th>\n",
       "      <td>0</td>\n",
       "      <td>0.042361</td>\n",
       "      <td>0.005471</td>\n",
       "      <td>3.221681</td>\n",
       "      <td>0.094861</td>\n",
       "      <td>0.138157</td>\n",
       "      <td>0.299040</td>\n",
       "      <td>0.006080</td>\n",
       "      <td>0.064839</td>\n",
       "      <td>-26.785331</td>\n",
       "      <td>...</td>\n",
       "      <td>0.003056</td>\n",
       "      <td>0.006662</td>\n",
       "      <td>0.017603</td>\n",
       "      <td>0.025049</td>\n",
       "      <td>0.016158</td>\n",
       "      <td>0.024236</td>\n",
       "      <td>-0.4</td>\n",
       "      <td>0.5</td>\n",
       "      <td>-4</td>\n",
       "      <td>5</td>\n",
       "    </tr>\n",
       "    <tr>\n",
       "      <th>1</th>\n",
       "      <td>1</td>\n",
       "      <td>0.037955</td>\n",
       "      <td>0.006517</td>\n",
       "      <td>3.225990</td>\n",
       "      <td>0.092540</td>\n",
       "      <td>0.141046</td>\n",
       "      <td>0.240904</td>\n",
       "      <td>0.005147</td>\n",
       "      <td>0.057726</td>\n",
       "      <td>-27.006739</td>\n",
       "      <td>...</td>\n",
       "      <td>0.001999</td>\n",
       "      <td>0.006834</td>\n",
       "      <td>0.028430</td>\n",
       "      <td>0.026667</td>\n",
       "      <td>0.015401</td>\n",
       "      <td>0.024859</td>\n",
       "      <td>0.5</td>\n",
       "      <td>-0.5</td>\n",
       "      <td>5</td>\n",
       "      <td>-5</td>\n",
       "    </tr>\n",
       "    <tr>\n",
       "      <th>2</th>\n",
       "      <td>2</td>\n",
       "      <td>0.072742</td>\n",
       "      <td>0.010719</td>\n",
       "      <td>3.183153</td>\n",
       "      <td>0.134485</td>\n",
       "      <td>0.151649</td>\n",
       "      <td>0.710906</td>\n",
       "      <td>0.008514</td>\n",
       "      <td>0.114776</td>\n",
       "      <td>-27.738291</td>\n",
       "      <td>...</td>\n",
       "      <td>0.003108</td>\n",
       "      <td>0.002258</td>\n",
       "      <td>0.008489</td>\n",
       "      <td>0.016227</td>\n",
       "      <td>0.004983</td>\n",
       "      <td>0.020580</td>\n",
       "      <td>-0.2</td>\n",
       "      <td>0.4</td>\n",
       "      <td>-2</td>\n",
       "      <td>4</td>\n",
       "    </tr>\n",
       "  </tbody>\n",
       "</table>\n",
       "<p>3 rows × 39 columns</p>\n",
       "</div>"
      ],
      "text/plain": [
       "   Song ID       ZCR    Energy  Entropy of Energy  Spectral Centroid  \\\n",
       "0        0  0.042361  0.005471           3.221681           0.094861   \n",
       "1        1  0.037955  0.006517           3.225990           0.092540   \n",
       "2        2  0.072742  0.010719           3.183153           0.134485   \n",
       "\n",
       "   Spectral Spread  Spectral Entropy  Spectral Flux  Spectral Rolloff  \\\n",
       "0         0.138157          0.299040       0.006080          0.064839   \n",
       "1         0.141046          0.240904       0.005147          0.057726   \n",
       "2         0.151649          0.710906       0.008514          0.114776   \n",
       "\n",
       "      MFCC.1          ...               CV.7      CV.8      CV.9     CV.10  \\\n",
       "0 -26.785331          ...           0.003056  0.006662  0.017603  0.025049   \n",
       "1 -27.006739          ...           0.001999  0.006834  0.028430  0.026667   \n",
       "2 -27.738291          ...           0.003108  0.002258  0.008489  0.016227   \n",
       "\n",
       "      CV.11  Chroma Deviation  Valence  Arousal  Unnormalised Valence  \\\n",
       "0  0.016158          0.024236     -0.4      0.5                    -4   \n",
       "1  0.015401          0.024859      0.5     -0.5                     5   \n",
       "2  0.004983          0.020580     -0.2      0.4                    -2   \n",
       "\n",
       "   Unnormalised Arousal  \n",
       "0                     5  \n",
       "1                    -5  \n",
       "2                     4  \n",
       "\n",
       "[3 rows x 39 columns]"
      ]
     },
     "execution_count": 4,
     "metadata": {},
     "output_type": "execute_result"
    }
   ],
   "source": [
    "data.head(3)"
   ]
  },
  {
   "cell_type": "code",
   "execution_count": 5,
   "metadata": {
    "collapsed": true
   },
   "outputs": [],
   "source": [
    "data = data.drop(columns = ['Unnormalised Valence', 'Unnormalised Arousal'])"
   ]
  },
  {
   "cell_type": "code",
   "execution_count": 6,
   "metadata": {
    "collapsed": true
   },
   "outputs": [],
   "source": [
    "features = data.loc[:, 'ZCR' : 'Chroma Deviation']"
   ]
  },
  {
   "cell_type": "code",
   "execution_count": 7,
   "metadata": {
    "collapsed": false
   },
   "outputs": [
    {
     "data": {
      "text/plain": [
       "(330, 34)"
      ]
     },
     "execution_count": 7,
     "metadata": {},
     "output_type": "execute_result"
    }
   ],
   "source": [
    "features.shape"
   ]
  },
  {
   "cell_type": "code",
   "execution_count": 22,
   "metadata": {
    "collapsed": true
   },
   "outputs": [],
   "source": [
    "from skfeature.function.similarity_based import fisher_score"
   ]
  },
  {
   "cell_type": "code",
   "execution_count": 41,
   "metadata": {
    "collapsed": true
   },
   "outputs": [],
   "source": [
    "score = fisher_score.fisher_score(features.values, data['Valence'])"
   ]
  },
  {
   "cell_type": "code",
   "execution_count": 49,
   "metadata": {
    "collapsed": false
   },
   "outputs": [],
   "source": [
    "rankings = fisher_score.feature_ranking(score)"
   ]
  },
  {
   "cell_type": "code",
   "execution_count": 56,
   "metadata": {
    "collapsed": false
   },
   "outputs": [],
   "source": [
    "top_10_fisher = [data.columns[column] for column in rankings][0:10]"
   ]
  },
  {
   "cell_type": "code",
   "execution_count": 57,
   "metadata": {
    "collapsed": false
   },
   "outputs": [
    {
     "data": {
      "text/plain": [
       "['Entropy of Energy',\n",
       " 'Song ID',\n",
       " 'Spectral Spread',\n",
       " 'CV.6',\n",
       " 'Spectral Entropy',\n",
       " 'Spectral Flux',\n",
       " 'MFCC.3',\n",
       " 'CV.4',\n",
       " 'MFCC.1',\n",
       " 'Energy']"
      ]
     },
     "execution_count": 57,
     "metadata": {},
     "output_type": "execute_result"
    }
   ],
   "source": [
    "top_10_fisher"
   ]
  },
  {
   "cell_type": "code",
   "execution_count": 61,
   "metadata": {
    "collapsed": true
   },
   "outputs": [],
   "source": [
    "from skfeature.function.statistical_based import chi_square"
   ]
  },
  {
   "cell_type": "code",
   "execution_count": 63,
   "metadata": {
    "collapsed": false
   },
   "outputs": [
    {
     "ename": "ValueError",
     "evalue": "Input X must be non-negative.",
     "output_type": "error",
     "traceback": [
      "\u001b[0;31m---------------------------------------------------------------------------\u001b[0m",
      "\u001b[0;31mValueError\u001b[0m                                Traceback (most recent call last)",
      "\u001b[0;32m<ipython-input-63-937a62b0aea8>\u001b[0m in \u001b[0;36m<module>\u001b[0;34m()\u001b[0m\n\u001b[0;32m----> 1\u001b[0;31m \u001b[0mscore_gini\u001b[0m \u001b[0;34m=\u001b[0m \u001b[0mchi_square\u001b[0m\u001b[0;34m.\u001b[0m\u001b[0mchi_square\u001b[0m\u001b[0;34m(\u001b[0m\u001b[0mfeatures\u001b[0m\u001b[0;34m.\u001b[0m\u001b[0mvalues\u001b[0m\u001b[0;34m,\u001b[0m \u001b[0mdata\u001b[0m\u001b[0;34m[\u001b[0m\u001b[0;34m'Valence'\u001b[0m\u001b[0;34m]\u001b[0m\u001b[0;34m)\u001b[0m\u001b[0;34m\u001b[0m\u001b[0m\n\u001b[0m",
      "\u001b[0;32m/Users/rwiddhichakraborty/anaconda/lib/python2.7/site-packages/skfeature/function/statistical_based/chi_square.pyc\u001b[0m in \u001b[0;36mchi_square\u001b[0;34m(X, y)\u001b[0m\n\u001b[1;32m     19\u001b[0m         \u001b[0mchi\u001b[0m\u001b[0;34m-\u001b[0m\u001b[0msquare\u001b[0m \u001b[0mscore\u001b[0m \u001b[0;32mfor\u001b[0m \u001b[0meach\u001b[0m \u001b[0mfeature\u001b[0m\u001b[0;34m\u001b[0m\u001b[0m\n\u001b[1;32m     20\u001b[0m     \"\"\"\n\u001b[0;32m---> 21\u001b[0;31m     \u001b[0mF\u001b[0m\u001b[0;34m,\u001b[0m \u001b[0mpval\u001b[0m \u001b[0;34m=\u001b[0m \u001b[0mchi2\u001b[0m\u001b[0;34m(\u001b[0m\u001b[0mX\u001b[0m\u001b[0;34m,\u001b[0m \u001b[0my\u001b[0m\u001b[0;34m)\u001b[0m\u001b[0;34m\u001b[0m\u001b[0m\n\u001b[0m\u001b[1;32m     22\u001b[0m     \u001b[0;32mreturn\u001b[0m \u001b[0mF\u001b[0m\u001b[0;34m\u001b[0m\u001b[0m\n\u001b[1;32m     23\u001b[0m \u001b[0;34m\u001b[0m\u001b[0m\n",
      "\u001b[0;32m/Users/rwiddhichakraborty/anaconda/lib/python2.7/site-packages/sklearn/feature_selection/univariate_selection.pyc\u001b[0m in \u001b[0;36mchi2\u001b[0;34m(X, y)\u001b[0m\n\u001b[1;32m    213\u001b[0m     \u001b[0mX\u001b[0m \u001b[0;34m=\u001b[0m \u001b[0mcheck_array\u001b[0m\u001b[0;34m(\u001b[0m\u001b[0mX\u001b[0m\u001b[0;34m,\u001b[0m \u001b[0maccept_sparse\u001b[0m\u001b[0;34m=\u001b[0m\u001b[0;34m'csr'\u001b[0m\u001b[0;34m)\u001b[0m\u001b[0;34m\u001b[0m\u001b[0m\n\u001b[1;32m    214\u001b[0m     \u001b[0;32mif\u001b[0m \u001b[0mnp\u001b[0m\u001b[0;34m.\u001b[0m\u001b[0many\u001b[0m\u001b[0;34m(\u001b[0m\u001b[0;34m(\u001b[0m\u001b[0mX\u001b[0m\u001b[0;34m.\u001b[0m\u001b[0mdata\u001b[0m \u001b[0;32mif\u001b[0m \u001b[0missparse\u001b[0m\u001b[0;34m(\u001b[0m\u001b[0mX\u001b[0m\u001b[0;34m)\u001b[0m \u001b[0;32melse\u001b[0m \u001b[0mX\u001b[0m\u001b[0;34m)\u001b[0m \u001b[0;34m<\u001b[0m \u001b[0;36m0\u001b[0m\u001b[0;34m)\u001b[0m\u001b[0;34m:\u001b[0m\u001b[0;34m\u001b[0m\u001b[0m\n\u001b[0;32m--> 215\u001b[0;31m         \u001b[0;32mraise\u001b[0m \u001b[0mValueError\u001b[0m\u001b[0;34m(\u001b[0m\u001b[0;34m\"Input X must be non-negative.\"\u001b[0m\u001b[0;34m)\u001b[0m\u001b[0;34m\u001b[0m\u001b[0m\n\u001b[0m\u001b[1;32m    216\u001b[0m \u001b[0;34m\u001b[0m\u001b[0m\n\u001b[1;32m    217\u001b[0m     \u001b[0mY\u001b[0m \u001b[0;34m=\u001b[0m \u001b[0mLabelBinarizer\u001b[0m\u001b[0;34m(\u001b[0m\u001b[0;34m)\u001b[0m\u001b[0;34m.\u001b[0m\u001b[0mfit_transform\u001b[0m\u001b[0;34m(\u001b[0m\u001b[0my\u001b[0m\u001b[0;34m)\u001b[0m\u001b[0;34m\u001b[0m\u001b[0m\n",
      "\u001b[0;31mValueError\u001b[0m: Input X must be non-negative."
     ]
    }
   ],
   "source": [
    "score_gini = chi_square.chi_square(features.values, data['Valence'])"
   ]
  },
  {
   "cell_type": "code",
   "execution_count": null,
   "metadata": {
    "collapsed": true
   },
   "outputs": [],
   "source": []
  }
 ],
 "metadata": {
  "kernelspec": {
   "display_name": "Python [Root]",
   "language": "python",
   "name": "Python [Root]"
  },
  "language_info": {
   "codemirror_mode": {
    "name": "ipython",
    "version": 2
   },
   "file_extension": ".py",
   "mimetype": "text/x-python",
   "name": "python",
   "nbconvert_exporter": "python",
   "pygments_lexer": "ipython2",
   "version": "2.7.12"
  }
 },
 "nbformat": 4,
 "nbformat_minor": 0
}
