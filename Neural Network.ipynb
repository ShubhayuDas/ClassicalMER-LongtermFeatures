{
 "cells": [
  {
   "cell_type": "markdown",
   "metadata": {},
   "source": [
    "# Contents:\n",
    "\n",
    "1. ANN1: Using everything - 70 features\n",
    "2. ANN2: Without spectral features - 68 features\n",
    "3. ANN3: Using both spectral and tempo features with feature selection"
   ]
  },
  {
   "cell_type": "code",
   "execution_count": 27,
   "metadata": {},
   "outputs": [],
   "source": [
    "import pandas as pd\n",
    "import numpy as np"
   ]
  },
  {
   "cell_type": "code",
   "execution_count": 2,
   "metadata": {},
   "outputs": [],
   "source": [
    "df = pd.read_csv('data-v4.csv', index_col=0)"
   ]
  },
  {
   "cell_type": "code",
   "execution_count": 3,
   "metadata": {},
   "outputs": [
    {
     "data": {
      "text/html": [
       "<div>\n",
       "<style scoped>\n",
       "    .dataframe tbody tr th:only-of-type {\n",
       "        vertical-align: middle;\n",
       "    }\n",
       "\n",
       "    .dataframe tbody tr th {\n",
       "        vertical-align: top;\n",
       "    }\n",
       "\n",
       "    .dataframe thead th {\n",
       "        text-align: right;\n",
       "    }\n",
       "</style>\n",
       "<table border=\"1\" class=\"dataframe\">\n",
       "  <thead>\n",
       "    <tr style=\"text-align: right;\">\n",
       "      <th></th>\n",
       "      <th>ZCR</th>\n",
       "      <th>Energy</th>\n",
       "      <th>Entropy of Energy</th>\n",
       "      <th>Spectral Centroid</th>\n",
       "      <th>Spectral Spread</th>\n",
       "      <th>Spectral Entropy</th>\n",
       "      <th>Spectral Flux</th>\n",
       "      <th>Spectral Rolloff</th>\n",
       "      <th>MFCC.1</th>\n",
       "      <th>MFCC.2</th>\n",
       "      <th>...</th>\n",
       "      <th>CV.7_SD</th>\n",
       "      <th>CV.8_SD</th>\n",
       "      <th>CV.9_SD</th>\n",
       "      <th>CV.10_SD</th>\n",
       "      <th>CV.11_SD</th>\n",
       "      <th>Chroma Deviation_SD</th>\n",
       "      <th>Tempo Feature1</th>\n",
       "      <th>Tempo Feature2</th>\n",
       "      <th>Valence</th>\n",
       "      <th>Arousal</th>\n",
       "    </tr>\n",
       "    <tr>\n",
       "      <th>Song ID</th>\n",
       "      <th></th>\n",
       "      <th></th>\n",
       "      <th></th>\n",
       "      <th></th>\n",
       "      <th></th>\n",
       "      <th></th>\n",
       "      <th></th>\n",
       "      <th></th>\n",
       "      <th></th>\n",
       "      <th></th>\n",
       "      <th></th>\n",
       "      <th></th>\n",
       "      <th></th>\n",
       "      <th></th>\n",
       "      <th></th>\n",
       "      <th></th>\n",
       "      <th></th>\n",
       "      <th></th>\n",
       "      <th></th>\n",
       "      <th></th>\n",
       "      <th></th>\n",
       "    </tr>\n",
       "  </thead>\n",
       "  <tbody>\n",
       "    <tr>\n",
       "      <th>0</th>\n",
       "      <td>0.234463</td>\n",
       "      <td>0.074886</td>\n",
       "      <td>0.792056</td>\n",
       "      <td>0.153942</td>\n",
       "      <td>0.077575</td>\n",
       "      <td>0.305852</td>\n",
       "      <td>0.140355</td>\n",
       "      <td>0.343998</td>\n",
       "      <td>0.591378</td>\n",
       "      <td>0.579080</td>\n",
       "      <td>...</td>\n",
       "      <td>0.189526</td>\n",
       "      <td>0.193013</td>\n",
       "      <td>0.273233</td>\n",
       "      <td>0.419740</td>\n",
       "      <td>0.482732</td>\n",
       "      <td>0.170282</td>\n",
       "      <td>0.142857</td>\n",
       "      <td>0.320790</td>\n",
       "      <td>-0.4</td>\n",
       "      <td>0.5</td>\n",
       "    </tr>\n",
       "    <tr>\n",
       "      <th>1</th>\n",
       "      <td>0.192285</td>\n",
       "      <td>0.096489</td>\n",
       "      <td>0.814660</td>\n",
       "      <td>0.136038</td>\n",
       "      <td>0.088316</td>\n",
       "      <td>0.241364</td>\n",
       "      <td>0.107631</td>\n",
       "      <td>0.282864</td>\n",
       "      <td>0.561162</td>\n",
       "      <td>0.630659</td>\n",
       "      <td>...</td>\n",
       "      <td>0.085899</td>\n",
       "      <td>0.163944</td>\n",
       "      <td>0.437033</td>\n",
       "      <td>0.428849</td>\n",
       "      <td>0.427423</td>\n",
       "      <td>0.146012</td>\n",
       "      <td>0.142857</td>\n",
       "      <td>0.271091</td>\n",
       "      <td>0.5</td>\n",
       "      <td>-0.5</td>\n",
       "    </tr>\n",
       "    <tr>\n",
       "      <th>2</th>\n",
       "      <td>0.529244</td>\n",
       "      <td>0.184599</td>\n",
       "      <td>0.562987</td>\n",
       "      <td>0.414212</td>\n",
       "      <td>0.137845</td>\n",
       "      <td>0.759576</td>\n",
       "      <td>0.184610</td>\n",
       "      <td>0.761827</td>\n",
       "      <td>0.481685</td>\n",
       "      <td>0.165364</td>\n",
       "      <td>...</td>\n",
       "      <td>0.251068</td>\n",
       "      <td>0.029417</td>\n",
       "      <td>0.195861</td>\n",
       "      <td>0.598474</td>\n",
       "      <td>0.164410</td>\n",
       "      <td>0.329922</td>\n",
       "      <td>0.142857</td>\n",
       "      <td>0.250898</td>\n",
       "      <td>-0.2</td>\n",
       "      <td>0.4</td>\n",
       "    </tr>\n",
       "  </tbody>\n",
       "</table>\n",
       "<p>3 rows × 72 columns</p>\n",
       "</div>"
      ],
      "text/plain": [
       "              ZCR    Energy  Entropy of Energy  Spectral Centroid  \\\n",
       "Song ID                                                             \n",
       "0        0.234463  0.074886           0.792056           0.153942   \n",
       "1        0.192285  0.096489           0.814660           0.136038   \n",
       "2        0.529244  0.184599           0.562987           0.414212   \n",
       "\n",
       "         Spectral Spread  Spectral Entropy  Spectral Flux  Spectral Rolloff  \\\n",
       "Song ID                                                                       \n",
       "0               0.077575          0.305852       0.140355          0.343998   \n",
       "1               0.088316          0.241364       0.107631          0.282864   \n",
       "2               0.137845          0.759576       0.184610          0.761827   \n",
       "\n",
       "           MFCC.1    MFCC.2   ...      CV.7_SD   CV.8_SD   CV.9_SD  CV.10_SD  \\\n",
       "Song ID                       ...                                              \n",
       "0        0.591378  0.579080   ...     0.189526  0.193013  0.273233  0.419740   \n",
       "1        0.561162  0.630659   ...     0.085899  0.163944  0.437033  0.428849   \n",
       "2        0.481685  0.165364   ...     0.251068  0.029417  0.195861  0.598474   \n",
       "\n",
       "         CV.11_SD  Chroma Deviation_SD  Tempo Feature1  Tempo Feature2  \\\n",
       "Song ID                                                                  \n",
       "0        0.482732             0.170282        0.142857        0.320790   \n",
       "1        0.427423             0.146012        0.142857        0.271091   \n",
       "2        0.164410             0.329922        0.142857        0.250898   \n",
       "\n",
       "         Valence  Arousal  \n",
       "Song ID                    \n",
       "0           -0.4      0.5  \n",
       "1            0.5     -0.5  \n",
       "2           -0.2      0.4  \n",
       "\n",
       "[3 rows x 72 columns]"
      ]
     },
     "execution_count": 3,
     "metadata": {},
     "output_type": "execute_result"
    }
   ],
   "source": [
    "df.head(3)"
   ]
  },
  {
   "cell_type": "code",
   "execution_count": 4,
   "metadata": {},
   "outputs": [],
   "source": [
    "data_tr1 = df.iloc[:264, 0:70]\n",
    "data_ts1 = df.iloc[264:, 0:70]\n",
    "valence_tr1 = df.iloc[:264, 70]\n",
    "arousal_tr1 = df.iloc[:264, 71]\n",
    "valence_ts1 = df.iloc[264:, 70]\n",
    "arousal_ts1 = df.iloc[264:, 71]\n",
    "\n",
    "data_tr2 = df.iloc[:264, 0:68]\n",
    "data_ts2 = df.iloc[264:, 0:68]\n",
    "valence_tr2 = df.iloc[:264, 70]\n",
    "arousal_tr2 = df.iloc[:264, 71]\n",
    "arousal_ts2 = df.iloc[264:, 71]\n",
    "valence_ts2 = df.iloc[264:, 70]\n",
    "\n",
    "data3 = df.loc[:, ['Tempo Feature1',\n",
    " 'Spectral Centroid',\n",
    " 'ZCR',\n",
    " 'Spectral Entropy',\n",
    " 'CV.7',\n",
    " 'Spectral Flux',\n",
    " 'Spectral Rolloff',\n",
    " 'MFCC.4',\n",
    " 'MFCC.2',\n",
    " 'CV.5',\n",
    " 'Entropy of Energy',\n",
    " 'MFCC.3',\n",
    " 'CV.8',\n",
    " 'Tempo Feature2',\n",
    " 'MFCC.13',\n",
    " 'Spectral Centroid_SD',\n",
    " 'ZCR_SD',\n",
    " 'Spectral Entropy_SD',\n",
    " 'CV.7_SD',\n",
    " 'Spectral Flux_SD',\n",
    " 'Spectral Rolloff_SD',\n",
    " 'MFCC.4_SD',\n",
    " 'MFCC.2_SD',\n",
    " 'CV.5_SD',\n",
    " 'Entropy of Energy_SD',\n",
    " 'MFCC.3_SD',\n",
    " 'CV.8_SD',\n",
    " 'MFCC.13_SD']]\n",
    "data_tr3 = data3.iloc[:264, :]\n",
    "data_ts3 = data3.iloc[264:, :]\n",
    "valence_tr3 = df.iloc[:264, 70]\n",
    "arousal_tr3 = df.iloc[:264, 71]\n",
    "arousal_ts3 = df.iloc[264:, 71]\n",
    "valence_ts3 = df.iloc[264:, 70]"
   ]
  },
  {
   "cell_type": "code",
   "execution_count": 5,
   "metadata": {},
   "outputs": [
    {
     "name": "stderr",
     "output_type": "stream",
     "text": [
      "Using TensorFlow backend.\n"
     ]
    }
   ],
   "source": [
    "from keras import models\n",
    "from keras.layers import Activation, Dropout, Dense, BatchNormalization\n",
    "from keras.wrappers.scikit_learn import KerasRegressor\n",
    "from sklearn.model_selection import cross_val_score\n",
    "from sklearn.model_selection import GridSearchCV"
   ]
  },
  {
   "cell_type": "markdown",
   "metadata": {},
   "source": [
    "# ANN1"
   ]
  },
  {
   "cell_type": "code",
   "execution_count": 6,
   "metadata": {},
   "outputs": [],
   "source": [
    "def create_network():\n",
    "    \n",
    "    # instantiate model\n",
    "    model = models.Sequential()\n",
    "\n",
    "    # we can think of this chunk as the input layer\n",
    "    model.add(Dense(90, input_dim=data_tr1.shape[1])) #change this bit for the different size of imput features\n",
    "    model.add(Activation('relu'))\n",
    "\n",
    "\n",
    "    # we can think of this chunk as the hidden layers    \n",
    "    model.add(Dense(90, kernel_initializer = 'uniform'))\n",
    "    #model.add(BatchNormalization())\n",
    "    model.add(Activation('relu'))\n",
    "    model.add(Dense(90, kernel_initializer = 'uniform'))\n",
    "    #model.add(BatchNormalization())\n",
    "    model.add(Activation('relu'))\n",
    "    \n",
    "    #Output Layer\n",
    "\n",
    "    model.add(Dense(1))\n",
    "\n",
    "    model.compile(loss='mean_squared_error',\n",
    "              optimizer='rmsprop',\n",
    "              metrics=['mae'])\n",
    "    \n",
    "    return model"
   ]
  },
  {
   "cell_type": "code",
   "execution_count": 7,
   "metadata": {},
   "outputs": [
    {
     "name": "stderr",
     "output_type": "stream",
     "text": [
      "/home/broda/.local/lib/python3.6/site-packages/sklearn/model_selection/_search.py:841: DeprecationWarning: The default of the `iid` parameter will change from True to False in version 0.22 and will be removed in 0.24. This will change numeric results when test-set sizes are unequal.\n",
      "  DeprecationWarning)\n"
     ]
    }
   ],
   "source": [
    "neural_network = KerasRegressor(build_fn=create_network, \n",
    "                                 nb_epoch=10, \n",
    "                                 batch_size=30, \n",
    "                                 verbose=0)\n",
    "params = {'batch_size' : [30, 40, 50]}\n",
    "grid_searc_nn1_valence = GridSearchCV(estimator = neural_network, param_grid = params, cv = 10, scoring = 'neg_mean_squared_error')\n",
    "grid_searc_nn1_valence.fit(data_tr1, valence_tr1)\n",
    "valence_pred_ts1 = grid_searc_nn1_valence.predict(data_ts1)\n",
    "valence_pred_tr1 = grid_searc_nn1_valence.predict(data_tr1)"
   ]
  },
  {
   "cell_type": "code",
   "execution_count": 8,
   "metadata": {},
   "outputs": [
    {
     "name": "stderr",
     "output_type": "stream",
     "text": [
      "/home/broda/.local/lib/python3.6/site-packages/sklearn/model_selection/_search.py:841: DeprecationWarning: The default of the `iid` parameter will change from True to False in version 0.22 and will be removed in 0.24. This will change numeric results when test-set sizes are unequal.\n",
      "  DeprecationWarning)\n"
     ]
    }
   ],
   "source": [
    "grid_searc_nn1_arousal = GridSearchCV(estimator = neural_network, param_grid = params, cv = 10, scoring = 'neg_mean_squared_error')\n",
    "grid_searc_nn1_arousal.fit(data_tr1, arousal_tr1)\n",
    "arousal_pred_ts1 = grid_searc_nn1_arousal.predict(data_ts1)\n",
    "arousal_pred_tr1 = grid_searc_nn1_arousal.predict(data_tr1)"
   ]
  },
  {
   "cell_type": "markdown",
   "metadata": {},
   "source": [
    "# ANN2"
   ]
  },
  {
   "cell_type": "code",
   "execution_count": 11,
   "metadata": {},
   "outputs": [],
   "source": [
    "def create_network():\n",
    "    \n",
    "    # instantiate model\n",
    "    model = models.Sequential()\n",
    "\n",
    "    # we can think of this chunk as the input layer\n",
    "    model.add(Dense(90, input_dim=data_tr2.shape[1])) #change this bit for the different size of imput features\n",
    "    model.add(Activation('relu'))\n",
    "\n",
    "\n",
    "    # we can think of this chunk as the hidden layers    \n",
    "    model.add(Dense(90, kernel_initializer = 'uniform'))\n",
    "    #model.add(BatchNormalization())\n",
    "    model.add(Activation('relu'))\n",
    "    model.add(Dense(90, kernel_initializer = 'uniform'))\n",
    "    #model.add(BatchNormalization())\n",
    "    model.add(Activation('relu'))\n",
    "    \n",
    "    #Output Layer\n",
    "\n",
    "    model.add(Dense(1))\n",
    "\n",
    "    model.compile(loss='mean_squared_error',\n",
    "              optimizer='rmsprop',\n",
    "              metrics=['mae'])\n",
    "    \n",
    "    return model\n",
    "\n",
    "neural_network = KerasRegressor(build_fn=create_network, \n",
    "                                 nb_epoch=10, \n",
    "                                 batch_size=30, \n",
    "                                 verbose=0)\n",
    "\n",
    "params = {'batch_size' : [30, 40, 50]}\n",
    "grid_searc_nn2_valence = GridSearchCV(estimator = neural_network, param_grid = params, cv = 10, scoring = 'neg_mean_squared_error')"
   ]
  },
  {
   "cell_type": "code",
   "execution_count": 12,
   "metadata": {},
   "outputs": [
    {
     "name": "stderr",
     "output_type": "stream",
     "text": [
      "/home/broda/.local/lib/python3.6/site-packages/sklearn/model_selection/_search.py:841: DeprecationWarning: The default of the `iid` parameter will change from True to False in version 0.22 and will be removed in 0.24. This will change numeric results when test-set sizes are unequal.\n",
      "  DeprecationWarning)\n"
     ]
    }
   ],
   "source": [
    "grid_searc_nn2_valence.fit(data_tr2, valence_tr2)\n",
    "valence_pred_ts2 = grid_searc_nn2_valence.predict(data_ts2)\n",
    "valence_pred_tr2 = grid_searc_nn2_valence.predict(data_tr2)"
   ]
  },
  {
   "cell_type": "code",
   "execution_count": 13,
   "metadata": {},
   "outputs": [
    {
     "name": "stderr",
     "output_type": "stream",
     "text": [
      "/home/broda/.local/lib/python3.6/site-packages/sklearn/model_selection/_search.py:841: DeprecationWarning: The default of the `iid` parameter will change from True to False in version 0.22 and will be removed in 0.24. This will change numeric results when test-set sizes are unequal.\n",
      "  DeprecationWarning)\n"
     ]
    }
   ],
   "source": [
    "grid_searc_nn2_arousal = GridSearchCV(estimator = neural_network, param_grid = params, cv = 10, scoring = 'neg_mean_squared_error')\n",
    "grid_searc_nn2_arousal.fit(data_tr2, arousal_tr2)\n",
    "arousal_pred_ts2 = grid_searc_nn2_arousal.predict(data_ts2)\n",
    "arousal_pred_tr2 = grid_searc_nn2_arousal.predict(data_tr2)"
   ]
  },
  {
   "cell_type": "markdown",
   "metadata": {},
   "source": [
    "# ANN3"
   ]
  },
  {
   "cell_type": "code",
   "execution_count": 14,
   "metadata": {},
   "outputs": [],
   "source": [
    "def create_network():\n",
    "    \n",
    "    # instantiate model\n",
    "    model = models.Sequential()\n",
    "\n",
    "    # we can think of this chunk as the input layer\n",
    "    model.add(Dense(90, input_dim=data_tr3.shape[1])) #change this bit for the different size of imput features\n",
    "    model.add(Activation('relu'))\n",
    "\n",
    "\n",
    "    # we can think of this chunk as the hidden layers    \n",
    "    model.add(Dense(90, kernel_initializer = 'uniform'))\n",
    "    #model.add(BatchNormalization())\n",
    "    model.add(Activation('relu'))\n",
    "    model.add(Dense(90, kernel_initializer = 'uniform'))\n",
    "    #model.add(BatchNormalization())\n",
    "    model.add(Activation('relu'))\n",
    "    \n",
    "    #Output Layer\n",
    "\n",
    "    model.add(Dense(1))\n",
    "\n",
    "    model.compile(loss='mean_squared_error',\n",
    "              optimizer='rmsprop',\n",
    "              metrics=['mae'])\n",
    "    \n",
    "    return model\n",
    "\n",
    "neural_network = KerasRegressor(build_fn=create_network, \n",
    "                                 nb_epoch=10, \n",
    "                                 batch_size=30, \n",
    "                                 verbose=0)\n",
    "\n",
    "params = {'batch_size' : [30, 40, 50]}\n",
    "grid_searc_nn3_valence = GridSearchCV(estimator = neural_network, param_grid = params, cv = 10, scoring = 'neg_mean_squared_error')"
   ]
  },
  {
   "cell_type": "code",
   "execution_count": 15,
   "metadata": {},
   "outputs": [
    {
     "name": "stderr",
     "output_type": "stream",
     "text": [
      "/home/broda/.local/lib/python3.6/site-packages/sklearn/model_selection/_search.py:841: DeprecationWarning: The default of the `iid` parameter will change from True to False in version 0.22 and will be removed in 0.24. This will change numeric results when test-set sizes are unequal.\n",
      "  DeprecationWarning)\n"
     ]
    }
   ],
   "source": [
    "grid_searc_nn3_valence.fit(data_tr3, valence_tr3)\n",
    "valence_pred_ts3 = grid_searc_nn3_valence.predict(data_ts3)\n",
    "valence_pred_tr3 = grid_searc_nn3_valence.predict(data_tr3)"
   ]
  },
  {
   "cell_type": "code",
   "execution_count": 17,
   "metadata": {},
   "outputs": [
    {
     "name": "stderr",
     "output_type": "stream",
     "text": [
      "/home/broda/.local/lib/python3.6/site-packages/sklearn/model_selection/_search.py:841: DeprecationWarning: The default of the `iid` parameter will change from True to False in version 0.22 and will be removed in 0.24. This will change numeric results when test-set sizes are unequal.\n",
      "  DeprecationWarning)\n"
     ]
    }
   ],
   "source": [
    "grid_searc_nn3_arousal = GridSearchCV(estimator = neural_network, param_grid = params, cv = 10, scoring = 'neg_mean_squared_error')\n",
    "grid_searc_nn3_arousal.fit(data_tr3, arousal_tr3)\n",
    "arousal_pred_ts3 = grid_searc_nn3_arousal.predict(data_ts3)\n",
    "arousal_pred_tr3 = grid_searc_nn3_arousal.predict(data_tr3)"
   ]
  },
  {
   "cell_type": "markdown",
   "metadata": {},
   "source": [
    "# Performance Eval"
   ]
  },
  {
   "cell_type": "code",
   "execution_count": 18,
   "metadata": {},
   "outputs": [],
   "source": [
    "from sklearn.metrics import mean_squared_error as mse\n",
    "from sklearn.metrics import mean_absolute_error as mae\n",
    "from sklearn.metrics import r2_score as r2"
   ]
  },
  {
   "cell_type": "code",
   "execution_count": 19,
   "metadata": {},
   "outputs": [
    {
     "name": "stdout",
     "output_type": "stream",
     "text": [
      "1. Training Error :0.431315770158262 Test Error :0.36780555232456247\n",
      "2. Training Error :0.4264300572770563 Test Error :0.3556250941572768\n",
      "3. Training Error :0.42885959667584045 Test Error :0.3864292765374889\n"
     ]
    }
   ],
   "source": [
    "#Arousal Error(mae) vs dataset 1,2,3 \n",
    "print('1. Training Error :' + str(mae(arousal_tr1,arousal_pred_tr1)) + ' Test Error :' + str(mae(arousal_ts1,arousal_pred_ts1)))\n",
    "print('2. Training Error :' + str(mae(arousal_tr2,arousal_pred_tr2)) + ' Test Error :' + str(mae(arousal_ts2,arousal_pred_ts2)))\n",
    "print('3. Training Error :' + str(mae(arousal_tr3,arousal_pred_tr3)) + ' Test Error :' + str(mae(arousal_ts3,arousal_pred_ts3)))"
   ]
  },
  {
   "cell_type": "code",
   "execution_count": 20,
   "metadata": {},
   "outputs": [
    {
     "name": "stdout",
     "output_type": "stream",
     "text": [
      "1. Training Error :0.22191622397075572 Test Error :0.17540511677061996\n",
      "2. Training Error :0.228955854177398 Test Error :0.17125678453047\n",
      "3. Training Error :0.22331568497529164 Test Error :0.1981770139802427\n"
     ]
    }
   ],
   "source": [
    "#Arousal Error(mse) vs dataset 1,2,3 \n",
    "print('1. Training Error :' + str(mse(arousal_tr1,arousal_pred_tr1)) + ' Test Error :' + str(mse(arousal_ts1,arousal_pred_ts1)))\n",
    "print('2. Training Error :' + str(mse(arousal_tr2,arousal_pred_tr2)) + ' Test Error :' + str(mse(arousal_ts2,arousal_pred_ts2)))\n",
    "print('3. Training Error :' + str(mse(arousal_tr3,arousal_pred_tr3)) + ' Test Error :' + str(mse(arousal_ts3,arousal_pred_ts3)))"
   ]
  },
  {
   "cell_type": "code",
   "execution_count": 21,
   "metadata": {},
   "outputs": [
    {
     "name": "stdout",
     "output_type": "stream",
     "text": [
      "1. Training r2 score :0.016519718292420826 Test r2 score :-0.011082174771163356\n",
      "2. Training r2 score :-0.014678259822320738 Test r2 score :0.012829925743721438\n",
      "3. Training r2 score :0.010317637712854322 Test r2 score :-0.14234550265047452\n"
     ]
    }
   ],
   "source": [
    "#Arousal Error(r2) vs dataset 1,2,3 \n",
    "print('1. Training r2 score :' + str(r2(arousal_tr1,arousal_pred_tr1)) + ' Test r2 score :' + str(r2(arousal_ts1,arousal_pred_ts1)))\n",
    "print('2. Training r2 score :' + str(r2(arousal_tr2,arousal_pred_tr2)) + ' Test r2 score :' + str(r2(arousal_ts2,arousal_pred_ts2)))\n",
    "print('3. Training r2 score :' + str(r2(arousal_tr3,arousal_pred_tr3)) + ' Test r2 score :' + str(r2(arousal_ts3,arousal_pred_ts3)))"
   ]
  },
  {
   "cell_type": "code",
   "execution_count": 22,
   "metadata": {},
   "outputs": [
    {
     "name": "stdout",
     "output_type": "stream",
     "text": [
      "1. Training Error :0.402983002878274 Test Error :0.41855571292566535\n",
      "2. Training Error :0.41635793959157485 Test Error :0.4357292795836022\n",
      "3. Training Error :0.3950621861230695 Test Error :0.4083767005891511\n"
     ]
    }
   ],
   "source": [
    "#Valence Error(mae) vs dataset 1,2,3 \n",
    "print('1. Training Error :' + str(mae(valence_tr1,valence_pred_tr1)) + ' Test Error :' + str(mae(valence_ts1,valence_pred_ts1)))\n",
    "print('2. Training Error :' + str(mae(valence_tr2,valence_pred_tr2)) + ' Test Error :' + str(mae(valence_ts2,valence_pred_ts2)))\n",
    "print('3. Training Error :' + str(mae(valence_tr3,valence_pred_tr3)) + ' Test Error :' + str(mae(valence_ts3,valence_pred_ts3)))"
   ]
  },
  {
   "cell_type": "code",
   "execution_count": 23,
   "metadata": {},
   "outputs": [
    {
     "name": "stdout",
     "output_type": "stream",
     "text": [
      "1. Training Error :0.1826353023605334 Test Error :0.1998948941962561\n",
      "2. Training Error :0.18987273319341452 Test Error :0.21111774380126966\n",
      "3. Training Error :0.18168619888081694 Test Error :0.19674231581081406\n"
     ]
    }
   ],
   "source": [
    "#Valence Error(mse) vs dataset 1,2,3 \n",
    "print('1. Training Error :' + str(mse(valence_tr1,valence_pred_tr1)) + ' Test Error :' + str(mse(valence_ts1,valence_pred_ts1)))\n",
    "print('2. Training Error :' + str(mse(valence_tr2,valence_pred_tr2)) + ' Test Error :' + str(mse(valence_ts2,valence_pred_ts2)))\n",
    "print('3. Training Error :' + str(mse(valence_tr3,valence_pred_tr3)) + ' Test Error :' + str(mse(valence_ts3,valence_pred_ts3)))"
   ]
  },
  {
   "cell_type": "code",
   "execution_count": 24,
   "metadata": {},
   "outputs": [
    {
     "name": "stdout",
     "output_type": "stream",
     "text": [
      "1. Training r2 score :0.0012937934414397612 Test r2 score :-0.05335110703436996\n",
      "2. Training r2 score :-0.0382827122993179 Test r2 score :-0.11249019161706486\n",
      "3. Training r2 score :0.006483784224207589 Test r2 score :-0.03673851697462749\n"
     ]
    }
   ],
   "source": [
    "#Valence r2 score(r2) vs dataset 1,2,3 \n",
    "print('1. Training r2 score :' + str(r2(valence_tr1,valence_pred_tr1)) + ' Test r2 score :' + str(r2(valence_ts1,valence_pred_ts1)))\n",
    "print('2. Training r2 score :' + str(r2(valence_tr2,valence_pred_tr2)) + ' Test r2 score :' + str(r2(valence_ts2,valence_pred_ts2)))\n",
    "print('3. Training r2 score :' + str(r2(valence_tr3,valence_pred_tr3)) + ' Test r2 score :' + str(r2(valence_ts3,valence_pred_ts3)))"
   ]
  },
  {
   "cell_type": "markdown",
   "metadata": {},
   "source": [
    "# Save the data for vizualization and model comparision"
   ]
  },
  {
   "cell_type": "code",
   "execution_count": 29,
   "metadata": {},
   "outputs": [],
   "source": [
    "#Arousal test data -- for viz\n",
    "np.savetxt(\"Vizdata/ANN_arousal1_groundthruth-pred.csv\", np.column_stack((arousal_ts1.values,arousal_pred_ts1)), delimiter=',', header=\"Ground truth value,Predicted value\", comments=\"\")\n",
    "np.savetxt(\"Vizdata/ANN_arousal2_groundthruth-pred.csv\", np.column_stack((arousal_ts1.values,arousal_pred_ts1)), delimiter=',', header=\"Ground truth value,Predicted value\", comments=\"\")\n",
    "np.savetxt(\"Vizdata/ANN_arousal3_groundthruth-pred.csv\", np.column_stack((arousal_ts1.values,arousal_pred_ts1)), delimiter=',', header=\"Ground truth value,Predicted value\", comments=\"\")\n",
    "#Arousal test error -- for model comp\n",
    "arousal_mse = np.column_stack((mse(arousal_ts1,arousal_pred_ts1),mse(arousal_ts2,arousal_pred_ts2),mse(arousal_ts3,arousal_pred_ts3)))\n",
    "np.savetxt(\"Compdata/ANN_arousal_performance-mse.csv\", arousal_mse, delimiter=',', header=\"MSE1,MSE2,MSE3\", comments=\"\")\n",
    "arousal_mae = np.column_stack((mae(arousal_ts1,arousal_pred_ts1),mae(arousal_ts2,arousal_pred_ts2),mae(arousal_ts3,arousal_pred_ts3)))\n",
    "np.savetxt(\"Compdata/ANN_arousal_performance-mae.csv\", arousal_mae, delimiter=',', header=\"MAE1,MAE2,MAE3\", comments=\"\")\n",
    "arousal_r2 = np.column_stack((r2(arousal_ts1,arousal_pred_ts1),r2(arousal_ts2,arousal_pred_ts2),r2(arousal_ts3,arousal_pred_ts3)))\n",
    "np.savetxt(\"Compdata/ANN_arousal_performance-r2.csv\", arousal_r2, delimiter=',', header=\"r2-1,r2-2,r2-3\", comments=\"\")"
   ]
  },
  {
   "cell_type": "code",
   "execution_count": 30,
   "metadata": {},
   "outputs": [],
   "source": [
    "#Valence test data -- for viz\n",
    "np.savetxt(\"Vizdata/ANN_valence1_groundthruth-pred.csv\", np.column_stack((valence_ts1.values,valence_pred_ts1)), delimiter=',', header=\"Ground truth value,Predicted value\", comments=\"\")\n",
    "np.savetxt(\"Vizdata/ANN_valence2_groundthruth-pred.csv\", np.column_stack((valence_ts1.values,valence_pred_ts1)), delimiter=',', header=\"Ground truth value,Predicted value\", comments=\"\")\n",
    "np.savetxt(\"Vizdata/ANN_valence3_groundthruth-pred.csv\", np.column_stack((valence_ts1.values,valence_pred_ts1)), delimiter=',', header=\"Ground truth value,Predicted value\", comments=\"\")\n",
    "#Valence test error -- for model comp\n",
    "valence_mse = np.column_stack((mse(valence_ts1,valence_pred_ts1),mse(valence_ts2,valence_pred_ts2),mse(valence_ts3,valence_pred_ts3)))\n",
    "np.savetxt(\"Compdata/ANN_valence_performance-mse.csv\", valence_mse, delimiter=',', header=\"MSE1,MSE2,MSE3\", comments=\"\")\n",
    "valence_mae = np.column_stack((mae(valence_ts1,valence_pred_ts1),mae(valence_ts2,valence_pred_ts2),mae(valence_ts3,valence_pred_ts3)))\n",
    "np.savetxt(\"Compdata/ANN_valence_performance-mae.csv\", valence_mae, delimiter=',', header=\"MAE1,MAE2,MAE3\", comments=\"\")\n",
    "valence_r2 = np.column_stack((r2(valence_ts1,valence_pred_ts1),r2(valence_ts2,valence_pred_ts2),r2(valence_ts3,valence_pred_ts3)))\n",
    "np.savetxt(\"Compdata/ANN_valence_performance-r2.csv\", valence_r2, delimiter=',', header=\"r2-1,r2-2,r2-3\", comments=\"\")"
   ]
  },
  {
   "cell_type": "code",
   "execution_count": null,
   "metadata": {},
   "outputs": [],
   "source": []
  }
 ],
 "metadata": {
  "anaconda-cloud": {},
  "kernelspec": {
   "display_name": "Python 3",
   "language": "python",
   "name": "python3"
  },
  "language_info": {
   "codemirror_mode": {
    "name": "ipython",
    "version": 3
   },
   "file_extension": ".py",
   "mimetype": "text/x-python",
   "name": "python",
   "nbconvert_exporter": "python",
   "pygments_lexer": "ipython3",
   "version": "3.6.6"
  }
 },
 "nbformat": 4,
 "nbformat_minor": 1
}
