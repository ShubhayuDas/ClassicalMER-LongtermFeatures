{
 "cells": [
  {
   "cell_type": "markdown",
   "metadata": {},
   "source": [
    "# Contents:\n",
    "1. SVR-RFR1: Using everything - 70 features\n",
    "2. SVR-RFR2: Without spectral features - 68 features\n",
    "3. SVR-RER3: Using both spectral and tempo features with feature selection\n",
    "4. Evaluation of svr perfoemance wrt the datasets."
   ]
  },
  {
   "cell_type": "code",
   "execution_count": 1,
   "metadata": {},
   "outputs": [],
   "source": [
    "import pandas as pd\n",
    "import numpy as np\n",
    "from sklearn.model_selection import GridSearchCV\n",
    "from sklearn.model_selection import cross_val_score\n",
    "from sklearn.svm import SVR\n",
    "\n",
    "svr = SVR()"
   ]
  },
  {
   "cell_type": "code",
   "execution_count": 2,
   "metadata": {},
   "outputs": [],
   "source": [
    "df = pd.read_csv('data-v4.csv', index_col=0)"
   ]
  },
  {
   "cell_type": "code",
   "execution_count": 3,
   "metadata": {
    "scrolled": true
   },
   "outputs": [
    {
     "data": {
      "text/html": [
       "<div>\n",
       "<style scoped>\n",
       "    .dataframe tbody tr th:only-of-type {\n",
       "        vertical-align: middle;\n",
       "    }\n",
       "\n",
       "    .dataframe tbody tr th {\n",
       "        vertical-align: top;\n",
       "    }\n",
       "\n",
       "    .dataframe thead th {\n",
       "        text-align: right;\n",
       "    }\n",
       "</style>\n",
       "<table border=\"1\" class=\"dataframe\">\n",
       "  <thead>\n",
       "    <tr style=\"text-align: right;\">\n",
       "      <th></th>\n",
       "      <th>ZCR</th>\n",
       "      <th>Energy</th>\n",
       "      <th>Entropy of Energy</th>\n",
       "      <th>Spectral Centroid</th>\n",
       "      <th>Spectral Spread</th>\n",
       "      <th>Spectral Entropy</th>\n",
       "      <th>Spectral Flux</th>\n",
       "      <th>Spectral Rolloff</th>\n",
       "      <th>MFCC.1</th>\n",
       "      <th>MFCC.2</th>\n",
       "      <th>...</th>\n",
       "      <th>CV.7_SD</th>\n",
       "      <th>CV.8_SD</th>\n",
       "      <th>CV.9_SD</th>\n",
       "      <th>CV.10_SD</th>\n",
       "      <th>CV.11_SD</th>\n",
       "      <th>Chroma Deviation_SD</th>\n",
       "      <th>Tempo Feature1</th>\n",
       "      <th>Tempo Feature2</th>\n",
       "      <th>Valence</th>\n",
       "      <th>Arousal</th>\n",
       "    </tr>\n",
       "    <tr>\n",
       "      <th>Song ID</th>\n",
       "      <th></th>\n",
       "      <th></th>\n",
       "      <th></th>\n",
       "      <th></th>\n",
       "      <th></th>\n",
       "      <th></th>\n",
       "      <th></th>\n",
       "      <th></th>\n",
       "      <th></th>\n",
       "      <th></th>\n",
       "      <th></th>\n",
       "      <th></th>\n",
       "      <th></th>\n",
       "      <th></th>\n",
       "      <th></th>\n",
       "      <th></th>\n",
       "      <th></th>\n",
       "      <th></th>\n",
       "      <th></th>\n",
       "      <th></th>\n",
       "      <th></th>\n",
       "    </tr>\n",
       "  </thead>\n",
       "  <tbody>\n",
       "    <tr>\n",
       "      <th>0</th>\n",
       "      <td>0.234463</td>\n",
       "      <td>0.074886</td>\n",
       "      <td>0.792056</td>\n",
       "      <td>0.153942</td>\n",
       "      <td>0.077575</td>\n",
       "      <td>0.305852</td>\n",
       "      <td>0.140355</td>\n",
       "      <td>0.343998</td>\n",
       "      <td>0.591378</td>\n",
       "      <td>0.579080</td>\n",
       "      <td>...</td>\n",
       "      <td>0.189526</td>\n",
       "      <td>0.193013</td>\n",
       "      <td>0.273233</td>\n",
       "      <td>0.419740</td>\n",
       "      <td>0.482732</td>\n",
       "      <td>0.170282</td>\n",
       "      <td>0.142857</td>\n",
       "      <td>0.320790</td>\n",
       "      <td>-0.4</td>\n",
       "      <td>0.5</td>\n",
       "    </tr>\n",
       "    <tr>\n",
       "      <th>1</th>\n",
       "      <td>0.192285</td>\n",
       "      <td>0.096489</td>\n",
       "      <td>0.814660</td>\n",
       "      <td>0.136038</td>\n",
       "      <td>0.088316</td>\n",
       "      <td>0.241364</td>\n",
       "      <td>0.107631</td>\n",
       "      <td>0.282864</td>\n",
       "      <td>0.561162</td>\n",
       "      <td>0.630659</td>\n",
       "      <td>...</td>\n",
       "      <td>0.085899</td>\n",
       "      <td>0.163944</td>\n",
       "      <td>0.437033</td>\n",
       "      <td>0.428849</td>\n",
       "      <td>0.427423</td>\n",
       "      <td>0.146012</td>\n",
       "      <td>0.142857</td>\n",
       "      <td>0.271091</td>\n",
       "      <td>0.5</td>\n",
       "      <td>-0.5</td>\n",
       "    </tr>\n",
       "    <tr>\n",
       "      <th>2</th>\n",
       "      <td>0.529244</td>\n",
       "      <td>0.184599</td>\n",
       "      <td>0.562987</td>\n",
       "      <td>0.414212</td>\n",
       "      <td>0.137845</td>\n",
       "      <td>0.759576</td>\n",
       "      <td>0.184610</td>\n",
       "      <td>0.761827</td>\n",
       "      <td>0.481685</td>\n",
       "      <td>0.165364</td>\n",
       "      <td>...</td>\n",
       "      <td>0.251068</td>\n",
       "      <td>0.029417</td>\n",
       "      <td>0.195861</td>\n",
       "      <td>0.598474</td>\n",
       "      <td>0.164410</td>\n",
       "      <td>0.329922</td>\n",
       "      <td>0.142857</td>\n",
       "      <td>0.250898</td>\n",
       "      <td>-0.2</td>\n",
       "      <td>0.4</td>\n",
       "    </tr>\n",
       "  </tbody>\n",
       "</table>\n",
       "<p>3 rows × 72 columns</p>\n",
       "</div>"
      ],
      "text/plain": [
       "              ZCR    Energy  Entropy of Energy  Spectral Centroid  \\\n",
       "Song ID                                                             \n",
       "0        0.234463  0.074886           0.792056           0.153942   \n",
       "1        0.192285  0.096489           0.814660           0.136038   \n",
       "2        0.529244  0.184599           0.562987           0.414212   \n",
       "\n",
       "         Spectral Spread  Spectral Entropy  Spectral Flux  Spectral Rolloff  \\\n",
       "Song ID                                                                       \n",
       "0               0.077575          0.305852       0.140355          0.343998   \n",
       "1               0.088316          0.241364       0.107631          0.282864   \n",
       "2               0.137845          0.759576       0.184610          0.761827   \n",
       "\n",
       "           MFCC.1    MFCC.2   ...      CV.7_SD   CV.8_SD   CV.9_SD  CV.10_SD  \\\n",
       "Song ID                       ...                                              \n",
       "0        0.591378  0.579080   ...     0.189526  0.193013  0.273233  0.419740   \n",
       "1        0.561162  0.630659   ...     0.085899  0.163944  0.437033  0.428849   \n",
       "2        0.481685  0.165364   ...     0.251068  0.029417  0.195861  0.598474   \n",
       "\n",
       "         CV.11_SD  Chroma Deviation_SD  Tempo Feature1  Tempo Feature2  \\\n",
       "Song ID                                                                  \n",
       "0        0.482732             0.170282        0.142857        0.320790   \n",
       "1        0.427423             0.146012        0.142857        0.271091   \n",
       "2        0.164410             0.329922        0.142857        0.250898   \n",
       "\n",
       "         Valence  Arousal  \n",
       "Song ID                    \n",
       "0           -0.4      0.5  \n",
       "1            0.5     -0.5  \n",
       "2           -0.2      0.4  \n",
       "\n",
       "[3 rows x 72 columns]"
      ]
     },
     "execution_count": 3,
     "metadata": {},
     "output_type": "execute_result"
    }
   ],
   "source": [
    "df.head(3)"
   ]
  },
  {
   "cell_type": "markdown",
   "metadata": {},
   "source": [
    "# SVR1"
   ]
  },
  {
   "cell_type": "code",
   "execution_count": 4,
   "metadata": {},
   "outputs": [],
   "source": [
    "data_tr1 = df.iloc[:264, 0:70]\n",
    "data_ts1 = df.iloc[264:, 0:70]\n",
    "valence_tr1 = df.iloc[:264, 70]\n",
    "arousal_tr1 = df.iloc[:264, 71]\n",
    "valence_ts1 = df.iloc[264:, 70]\n",
    "arousal_ts1 = df.iloc[264:, 71]"
   ]
  },
  {
   "cell_type": "code",
   "execution_count": 5,
   "metadata": {
    "scrolled": true
   },
   "outputs": [
    {
     "data": {
      "text/html": [
       "<div>\n",
       "<style scoped>\n",
       "    .dataframe tbody tr th:only-of-type {\n",
       "        vertical-align: middle;\n",
       "    }\n",
       "\n",
       "    .dataframe tbody tr th {\n",
       "        vertical-align: top;\n",
       "    }\n",
       "\n",
       "    .dataframe thead th {\n",
       "        text-align: right;\n",
       "    }\n",
       "</style>\n",
       "<table border=\"1\" class=\"dataframe\">\n",
       "  <thead>\n",
       "    <tr style=\"text-align: right;\">\n",
       "      <th></th>\n",
       "      <th>ZCR</th>\n",
       "      <th>Energy</th>\n",
       "      <th>Entropy of Energy</th>\n",
       "      <th>Spectral Centroid</th>\n",
       "      <th>Spectral Spread</th>\n",
       "      <th>Spectral Entropy</th>\n",
       "      <th>Spectral Flux</th>\n",
       "      <th>Spectral Rolloff</th>\n",
       "      <th>MFCC.1</th>\n",
       "      <th>MFCC.2</th>\n",
       "      <th>...</th>\n",
       "      <th>CV.5_SD</th>\n",
       "      <th>CV.6_SD</th>\n",
       "      <th>CV.7_SD</th>\n",
       "      <th>CV.8_SD</th>\n",
       "      <th>CV.9_SD</th>\n",
       "      <th>CV.10_SD</th>\n",
       "      <th>CV.11_SD</th>\n",
       "      <th>Chroma Deviation_SD</th>\n",
       "      <th>Tempo Feature1</th>\n",
       "      <th>Tempo Feature2</th>\n",
       "    </tr>\n",
       "    <tr>\n",
       "      <th>Song ID</th>\n",
       "      <th></th>\n",
       "      <th></th>\n",
       "      <th></th>\n",
       "      <th></th>\n",
       "      <th></th>\n",
       "      <th></th>\n",
       "      <th></th>\n",
       "      <th></th>\n",
       "      <th></th>\n",
       "      <th></th>\n",
       "      <th></th>\n",
       "      <th></th>\n",
       "      <th></th>\n",
       "      <th></th>\n",
       "      <th></th>\n",
       "      <th></th>\n",
       "      <th></th>\n",
       "      <th></th>\n",
       "      <th></th>\n",
       "      <th></th>\n",
       "      <th></th>\n",
       "    </tr>\n",
       "  </thead>\n",
       "  <tbody>\n",
       "    <tr>\n",
       "      <th>0</th>\n",
       "      <td>0.234463</td>\n",
       "      <td>0.074886</td>\n",
       "      <td>0.792056</td>\n",
       "      <td>0.153942</td>\n",
       "      <td>0.077575</td>\n",
       "      <td>0.305852</td>\n",
       "      <td>0.140355</td>\n",
       "      <td>0.343998</td>\n",
       "      <td>0.591378</td>\n",
       "      <td>0.579080</td>\n",
       "      <td>...</td>\n",
       "      <td>0.216228</td>\n",
       "      <td>0.215754</td>\n",
       "      <td>0.189526</td>\n",
       "      <td>0.193013</td>\n",
       "      <td>0.273233</td>\n",
       "      <td>0.419740</td>\n",
       "      <td>0.482732</td>\n",
       "      <td>0.170282</td>\n",
       "      <td>0.142857</td>\n",
       "      <td>0.320790</td>\n",
       "    </tr>\n",
       "    <tr>\n",
       "      <th>1</th>\n",
       "      <td>0.192285</td>\n",
       "      <td>0.096489</td>\n",
       "      <td>0.814660</td>\n",
       "      <td>0.136038</td>\n",
       "      <td>0.088316</td>\n",
       "      <td>0.241364</td>\n",
       "      <td>0.107631</td>\n",
       "      <td>0.282864</td>\n",
       "      <td>0.561162</td>\n",
       "      <td>0.630659</td>\n",
       "      <td>...</td>\n",
       "      <td>0.099773</td>\n",
       "      <td>0.121449</td>\n",
       "      <td>0.085899</td>\n",
       "      <td>0.163944</td>\n",
       "      <td>0.437033</td>\n",
       "      <td>0.428849</td>\n",
       "      <td>0.427423</td>\n",
       "      <td>0.146012</td>\n",
       "      <td>0.142857</td>\n",
       "      <td>0.271091</td>\n",
       "    </tr>\n",
       "    <tr>\n",
       "      <th>2</th>\n",
       "      <td>0.529244</td>\n",
       "      <td>0.184599</td>\n",
       "      <td>0.562987</td>\n",
       "      <td>0.414212</td>\n",
       "      <td>0.137845</td>\n",
       "      <td>0.759576</td>\n",
       "      <td>0.184610</td>\n",
       "      <td>0.761827</td>\n",
       "      <td>0.481685</td>\n",
       "      <td>0.165364</td>\n",
       "      <td>...</td>\n",
       "      <td>0.515858</td>\n",
       "      <td>0.158287</td>\n",
       "      <td>0.251068</td>\n",
       "      <td>0.029417</td>\n",
       "      <td>0.195861</td>\n",
       "      <td>0.598474</td>\n",
       "      <td>0.164410</td>\n",
       "      <td>0.329922</td>\n",
       "      <td>0.142857</td>\n",
       "      <td>0.250898</td>\n",
       "    </tr>\n",
       "  </tbody>\n",
       "</table>\n",
       "<p>3 rows × 70 columns</p>\n",
       "</div>"
      ],
      "text/plain": [
       "              ZCR    Energy  Entropy of Energy  Spectral Centroid  \\\n",
       "Song ID                                                             \n",
       "0        0.234463  0.074886           0.792056           0.153942   \n",
       "1        0.192285  0.096489           0.814660           0.136038   \n",
       "2        0.529244  0.184599           0.562987           0.414212   \n",
       "\n",
       "         Spectral Spread  Spectral Entropy  Spectral Flux  Spectral Rolloff  \\\n",
       "Song ID                                                                       \n",
       "0               0.077575          0.305852       0.140355          0.343998   \n",
       "1               0.088316          0.241364       0.107631          0.282864   \n",
       "2               0.137845          0.759576       0.184610          0.761827   \n",
       "\n",
       "           MFCC.1    MFCC.2       ...         CV.5_SD   CV.6_SD   CV.7_SD  \\\n",
       "Song ID                           ...                                       \n",
       "0        0.591378  0.579080       ...        0.216228  0.215754  0.189526   \n",
       "1        0.561162  0.630659       ...        0.099773  0.121449  0.085899   \n",
       "2        0.481685  0.165364       ...        0.515858  0.158287  0.251068   \n",
       "\n",
       "          CV.8_SD   CV.9_SD  CV.10_SD  CV.11_SD  Chroma Deviation_SD  \\\n",
       "Song ID                                                                \n",
       "0        0.193013  0.273233  0.419740  0.482732             0.170282   \n",
       "1        0.163944  0.437033  0.428849  0.427423             0.146012   \n",
       "2        0.029417  0.195861  0.598474  0.164410             0.329922   \n",
       "\n",
       "         Tempo Feature1  Tempo Feature2  \n",
       "Song ID                                  \n",
       "0              0.142857        0.320790  \n",
       "1              0.142857        0.271091  \n",
       "2              0.142857        0.250898  \n",
       "\n",
       "[3 rows x 70 columns]"
      ]
     },
     "execution_count": 5,
     "metadata": {},
     "output_type": "execute_result"
    }
   ],
   "source": [
    "data_tr1.head(3)"
   ]
  },
  {
   "cell_type": "code",
   "execution_count": 6,
   "metadata": {},
   "outputs": [
    {
     "data": {
      "text/plain": [
       "Song ID\n",
       "0   -0.4\n",
       "1    0.5\n",
       "2   -0.2\n",
       "3    0.1\n",
       "Name: Valence, dtype: float64"
      ]
     },
     "execution_count": 6,
     "metadata": {},
     "output_type": "execute_result"
    }
   ],
   "source": [
    "valence_tr1.head(4)"
   ]
  },
  {
   "cell_type": "code",
   "execution_count": 7,
   "metadata": {},
   "outputs": [],
   "source": [
    "train1 = data_tr1.values\n",
    "test1 = data_ts1.values"
   ]
  },
  {
   "cell_type": "code",
   "execution_count": 8,
   "metadata": {},
   "outputs": [
    {
     "name": "stderr",
     "output_type": "stream",
     "text": [
      "/home/broda/.local/lib/python3.6/site-packages/sklearn/model_selection/_search.py:841: DeprecationWarning: The default of the `iid` parameter will change from True to False in version 0.22 and will be removed in 0.24. This will change numeric results when test-set sizes are unequal.\n",
      "  DeprecationWarning)\n"
     ]
    },
    {
     "data": {
      "text/plain": [
       "GridSearchCV(cv=10, error_score='raise-deprecating',\n",
       "       estimator=SVR(C=1.0, cache_size=200, coef0=0.0, degree=3, epsilon=0.1,\n",
       "  gamma='auto_deprecated', kernel='rbf', max_iter=-1, shrinking=True,\n",
       "  tol=0.001, verbose=False),\n",
       "       fit_params=None, iid='warn', n_jobs=None,\n",
       "       param_grid={'C': [0.01, 0.1, 1.0, 10.0], 'gamma': [0.01, 0.1, 1.0], 'kernel': ('linear', 'rbf')},\n",
       "       pre_dispatch='2*n_jobs', refit=True, return_train_score='warn',\n",
       "       scoring='neg_mean_squared_error', verbose=0)"
      ]
     },
     "execution_count": 8,
     "metadata": {},
     "output_type": "execute_result"
    }
   ],
   "source": [
    "C = [0.01, 0.1, 1.0, 10.0]\n",
    "gamma = [0.01, 0.1, 1.0]\n",
    "kernel = ('linear', 'rbf')\n",
    "params = {'C' : C, 'gamma' : gamma, 'kernel' : kernel}\n",
    "grid_searc_svr1_valence = GridSearchCV(svr, params, cv = 10, scoring = 'neg_mean_squared_error')\n",
    "grid_searc_svr1_valence.fit(train1, valence_tr1)"
   ]
  },
  {
   "cell_type": "code",
   "execution_count": 9,
   "metadata": {},
   "outputs": [
    {
     "name": "stdout",
     "output_type": "stream",
     "text": [
      "{'C': 1.0, 'gamma': 1.0, 'kernel': 'rbf'}\n"
     ]
    }
   ],
   "source": [
    "results1_valence = grid_searc_svr1_valence.cv_results_\n",
    "valence_pred_tr1 = grid_searc_svr1_valence.predict(train1)\n",
    "valence_pred_ts1 = grid_searc_svr1_valence.predict(test1)\n",
    "print(grid_searc_svr1_valence.best_params_)"
   ]
  },
  {
   "cell_type": "code",
   "execution_count": 10,
   "metadata": {},
   "outputs": [
    {
     "name": "stderr",
     "output_type": "stream",
     "text": [
      "/home/broda/.local/lib/python3.6/site-packages/sklearn/model_selection/_search.py:841: DeprecationWarning: The default of the `iid` parameter will change from True to False in version 0.22 and will be removed in 0.24. This will change numeric results when test-set sizes are unequal.\n",
      "  DeprecationWarning)\n"
     ]
    }
   ],
   "source": [
    "grid_searc_svr1_arousal = GridSearchCV(svr, params, cv = 10, scoring = 'neg_mean_squared_error')\n",
    "grid_searc_svr1_arousal.fit(train1, arousal_tr1)\n",
    "results_ar1 = grid_searc_svr1_arousal.cv_results_\n",
    "arousal_pred_tr1 = grid_searc_svr1_arousal.predict(train1)\n",
    "arousal_pred_ts1 = grid_searc_svr1_arousal.predict(test1)"
   ]
  },
  {
   "cell_type": "markdown",
   "metadata": {},
   "source": [
    "# SVR 2"
   ]
  },
  {
   "cell_type": "code",
   "execution_count": 11,
   "metadata": {},
   "outputs": [],
   "source": [
    "data_tr2 = df.iloc[:264, 0:68]\n",
    "data_ts2 = df.iloc[264:, 0:68]\n",
    "\n",
    "valence_tr2 = df.iloc[:264, 70]\n",
    "arousal_tr2 = df.iloc[:264, 71]\n",
    "arousal_ts2 = df.iloc[264:, 71]\n",
    "valence_ts2 = df.iloc[264:, 70]"
   ]
  },
  {
   "cell_type": "code",
   "execution_count": 12,
   "metadata": {},
   "outputs": [
    {
     "data": {
      "text/html": [
       "<div>\n",
       "<style scoped>\n",
       "    .dataframe tbody tr th:only-of-type {\n",
       "        vertical-align: middle;\n",
       "    }\n",
       "\n",
       "    .dataframe tbody tr th {\n",
       "        vertical-align: top;\n",
       "    }\n",
       "\n",
       "    .dataframe thead th {\n",
       "        text-align: right;\n",
       "    }\n",
       "</style>\n",
       "<table border=\"1\" class=\"dataframe\">\n",
       "  <thead>\n",
       "    <tr style=\"text-align: right;\">\n",
       "      <th></th>\n",
       "      <th>ZCR</th>\n",
       "      <th>Energy</th>\n",
       "      <th>Entropy of Energy</th>\n",
       "      <th>Spectral Centroid</th>\n",
       "      <th>Spectral Spread</th>\n",
       "      <th>Spectral Entropy</th>\n",
       "      <th>Spectral Flux</th>\n",
       "      <th>Spectral Rolloff</th>\n",
       "      <th>MFCC.1</th>\n",
       "      <th>MFCC.2</th>\n",
       "      <th>...</th>\n",
       "      <th>CV.3_SD</th>\n",
       "      <th>CV.4_SD</th>\n",
       "      <th>CV.5_SD</th>\n",
       "      <th>CV.6_SD</th>\n",
       "      <th>CV.7_SD</th>\n",
       "      <th>CV.8_SD</th>\n",
       "      <th>CV.9_SD</th>\n",
       "      <th>CV.10_SD</th>\n",
       "      <th>CV.11_SD</th>\n",
       "      <th>Chroma Deviation_SD</th>\n",
       "    </tr>\n",
       "    <tr>\n",
       "      <th>Song ID</th>\n",
       "      <th></th>\n",
       "      <th></th>\n",
       "      <th></th>\n",
       "      <th></th>\n",
       "      <th></th>\n",
       "      <th></th>\n",
       "      <th></th>\n",
       "      <th></th>\n",
       "      <th></th>\n",
       "      <th></th>\n",
       "      <th></th>\n",
       "      <th></th>\n",
       "      <th></th>\n",
       "      <th></th>\n",
       "      <th></th>\n",
       "      <th></th>\n",
       "      <th></th>\n",
       "      <th></th>\n",
       "      <th></th>\n",
       "      <th></th>\n",
       "      <th></th>\n",
       "    </tr>\n",
       "  </thead>\n",
       "  <tbody>\n",
       "    <tr>\n",
       "      <th>0</th>\n",
       "      <td>0.234463</td>\n",
       "      <td>0.074886</td>\n",
       "      <td>0.792056</td>\n",
       "      <td>0.153942</td>\n",
       "      <td>0.077575</td>\n",
       "      <td>0.305852</td>\n",
       "      <td>0.140355</td>\n",
       "      <td>0.343998</td>\n",
       "      <td>0.591378</td>\n",
       "      <td>0.579080</td>\n",
       "      <td>...</td>\n",
       "      <td>0.428120</td>\n",
       "      <td>0.412970</td>\n",
       "      <td>0.216228</td>\n",
       "      <td>0.215754</td>\n",
       "      <td>0.189526</td>\n",
       "      <td>0.193013</td>\n",
       "      <td>0.273233</td>\n",
       "      <td>0.419740</td>\n",
       "      <td>0.482732</td>\n",
       "      <td>0.170282</td>\n",
       "    </tr>\n",
       "    <tr>\n",
       "      <th>1</th>\n",
       "      <td>0.192285</td>\n",
       "      <td>0.096489</td>\n",
       "      <td>0.814660</td>\n",
       "      <td>0.136038</td>\n",
       "      <td>0.088316</td>\n",
       "      <td>0.241364</td>\n",
       "      <td>0.107631</td>\n",
       "      <td>0.282864</td>\n",
       "      <td>0.561162</td>\n",
       "      <td>0.630659</td>\n",
       "      <td>...</td>\n",
       "      <td>0.241003</td>\n",
       "      <td>0.379427</td>\n",
       "      <td>0.099773</td>\n",
       "      <td>0.121449</td>\n",
       "      <td>0.085899</td>\n",
       "      <td>0.163944</td>\n",
       "      <td>0.437033</td>\n",
       "      <td>0.428849</td>\n",
       "      <td>0.427423</td>\n",
       "      <td>0.146012</td>\n",
       "    </tr>\n",
       "    <tr>\n",
       "      <th>2</th>\n",
       "      <td>0.529244</td>\n",
       "      <td>0.184599</td>\n",
       "      <td>0.562987</td>\n",
       "      <td>0.414212</td>\n",
       "      <td>0.137845</td>\n",
       "      <td>0.759576</td>\n",
       "      <td>0.184610</td>\n",
       "      <td>0.761827</td>\n",
       "      <td>0.481685</td>\n",
       "      <td>0.165364</td>\n",
       "      <td>...</td>\n",
       "      <td>0.172444</td>\n",
       "      <td>0.282025</td>\n",
       "      <td>0.515858</td>\n",
       "      <td>0.158287</td>\n",
       "      <td>0.251068</td>\n",
       "      <td>0.029417</td>\n",
       "      <td>0.195861</td>\n",
       "      <td>0.598474</td>\n",
       "      <td>0.164410</td>\n",
       "      <td>0.329922</td>\n",
       "    </tr>\n",
       "    <tr>\n",
       "      <th>3</th>\n",
       "      <td>0.174056</td>\n",
       "      <td>0.327551</td>\n",
       "      <td>0.702462</td>\n",
       "      <td>0.117873</td>\n",
       "      <td>0.092945</td>\n",
       "      <td>0.268255</td>\n",
       "      <td>0.119694</td>\n",
       "      <td>0.254264</td>\n",
       "      <td>0.779803</td>\n",
       "      <td>0.694776</td>\n",
       "      <td>...</td>\n",
       "      <td>0.253440</td>\n",
       "      <td>0.438035</td>\n",
       "      <td>0.127390</td>\n",
       "      <td>0.306455</td>\n",
       "      <td>0.113021</td>\n",
       "      <td>0.151309</td>\n",
       "      <td>0.380682</td>\n",
       "      <td>0.513874</td>\n",
       "      <td>0.354728</td>\n",
       "      <td>0.153605</td>\n",
       "    </tr>\n",
       "    <tr>\n",
       "      <th>4</th>\n",
       "      <td>0.152077</td>\n",
       "      <td>0.331886</td>\n",
       "      <td>0.816246</td>\n",
       "      <td>0.207490</td>\n",
       "      <td>0.201975</td>\n",
       "      <td>0.080789</td>\n",
       "      <td>0.097912</td>\n",
       "      <td>0.156764</td>\n",
       "      <td>0.650227</td>\n",
       "      <td>0.759873</td>\n",
       "      <td>...</td>\n",
       "      <td>0.186622</td>\n",
       "      <td>0.112676</td>\n",
       "      <td>0.241074</td>\n",
       "      <td>0.589297</td>\n",
       "      <td>0.194927</td>\n",
       "      <td>0.430999</td>\n",
       "      <td>0.114536</td>\n",
       "      <td>0.192101</td>\n",
       "      <td>0.240289</td>\n",
       "      <td>0.253724</td>\n",
       "    </tr>\n",
       "  </tbody>\n",
       "</table>\n",
       "<p>5 rows × 68 columns</p>\n",
       "</div>"
      ],
      "text/plain": [
       "              ZCR    Energy  Entropy of Energy  Spectral Centroid  \\\n",
       "Song ID                                                             \n",
       "0        0.234463  0.074886           0.792056           0.153942   \n",
       "1        0.192285  0.096489           0.814660           0.136038   \n",
       "2        0.529244  0.184599           0.562987           0.414212   \n",
       "3        0.174056  0.327551           0.702462           0.117873   \n",
       "4        0.152077  0.331886           0.816246           0.207490   \n",
       "\n",
       "         Spectral Spread  Spectral Entropy  Spectral Flux  Spectral Rolloff  \\\n",
       "Song ID                                                                       \n",
       "0               0.077575          0.305852       0.140355          0.343998   \n",
       "1               0.088316          0.241364       0.107631          0.282864   \n",
       "2               0.137845          0.759576       0.184610          0.761827   \n",
       "3               0.092945          0.268255       0.119694          0.254264   \n",
       "4               0.201975          0.080789       0.097912          0.156764   \n",
       "\n",
       "           MFCC.1    MFCC.2         ...            CV.3_SD   CV.4_SD  \\\n",
       "Song ID                             ...                                \n",
       "0        0.591378  0.579080         ...           0.428120  0.412970   \n",
       "1        0.561162  0.630659         ...           0.241003  0.379427   \n",
       "2        0.481685  0.165364         ...           0.172444  0.282025   \n",
       "3        0.779803  0.694776         ...           0.253440  0.438035   \n",
       "4        0.650227  0.759873         ...           0.186622  0.112676   \n",
       "\n",
       "          CV.5_SD   CV.6_SD   CV.7_SD   CV.8_SD   CV.9_SD  CV.10_SD  CV.11_SD  \\\n",
       "Song ID                                                                         \n",
       "0        0.216228  0.215754  0.189526  0.193013  0.273233  0.419740  0.482732   \n",
       "1        0.099773  0.121449  0.085899  0.163944  0.437033  0.428849  0.427423   \n",
       "2        0.515858  0.158287  0.251068  0.029417  0.195861  0.598474  0.164410   \n",
       "3        0.127390  0.306455  0.113021  0.151309  0.380682  0.513874  0.354728   \n",
       "4        0.241074  0.589297  0.194927  0.430999  0.114536  0.192101  0.240289   \n",
       "\n",
       "         Chroma Deviation_SD  \n",
       "Song ID                       \n",
       "0                   0.170282  \n",
       "1                   0.146012  \n",
       "2                   0.329922  \n",
       "3                   0.153605  \n",
       "4                   0.253724  \n",
       "\n",
       "[5 rows x 68 columns]"
      ]
     },
     "execution_count": 12,
     "metadata": {},
     "output_type": "execute_result"
    }
   ],
   "source": [
    "data_tr2.head()"
   ]
  },
  {
   "cell_type": "code",
   "execution_count": 13,
   "metadata": {},
   "outputs": [
    {
     "name": "stderr",
     "output_type": "stream",
     "text": [
      "/home/broda/.local/lib/python3.6/site-packages/sklearn/model_selection/_search.py:841: DeprecationWarning: The default of the `iid` parameter will change from True to False in version 0.22 and will be removed in 0.24. This will change numeric results when test-set sizes are unequal.\n",
      "  DeprecationWarning)\n"
     ]
    },
    {
     "data": {
      "text/plain": [
       "GridSearchCV(cv=10, error_score='raise-deprecating',\n",
       "       estimator=SVR(C=1.0, cache_size=200, coef0=0.0, degree=3, epsilon=0.1,\n",
       "  gamma='auto_deprecated', kernel='rbf', max_iter=-1, shrinking=True,\n",
       "  tol=0.001, verbose=False),\n",
       "       fit_params=None, iid='warn', n_jobs=None,\n",
       "       param_grid={'C': [0.01, 0.1, 1.0, 10.0], 'gamma': [0.01, 0.1, 1.0], 'kernel': ('linear', 'rbf')},\n",
       "       pre_dispatch='2*n_jobs', refit=True, return_train_score='warn',\n",
       "       scoring='neg_mean_squared_error', verbose=0)"
      ]
     },
     "execution_count": 13,
     "metadata": {},
     "output_type": "execute_result"
    }
   ],
   "source": [
    "train2 = data_tr2.values\n",
    "test2 = data_ts2.values\n",
    "grid_searc_svr2_valence = GridSearchCV(svr, params, cv = 10, scoring = 'neg_mean_squared_error')\n",
    "grid_searc_svr2_valence.fit(train2, valence_tr2)"
   ]
  },
  {
   "cell_type": "code",
   "execution_count": 14,
   "metadata": {},
   "outputs": [],
   "source": [
    "results2 = grid_searc_svr2_valence.cv_results_\n",
    "valence_pred_tr2 = grid_searc_svr2_valence.predict(train2)\n",
    "valence_pred_ts2 = grid_searc_svr2_valence.predict(test2)"
   ]
  },
  {
   "cell_type": "code",
   "execution_count": 15,
   "metadata": {},
   "outputs": [
    {
     "name": "stderr",
     "output_type": "stream",
     "text": [
      "/home/broda/.local/lib/python3.6/site-packages/sklearn/model_selection/_search.py:841: DeprecationWarning: The default of the `iid` parameter will change from True to False in version 0.22 and will be removed in 0.24. This will change numeric results when test-set sizes are unequal.\n",
      "  DeprecationWarning)\n"
     ]
    },
    {
     "data": {
      "text/plain": [
       "GridSearchCV(cv=10, error_score='raise-deprecating',\n",
       "       estimator=SVR(C=1.0, cache_size=200, coef0=0.0, degree=3, epsilon=0.1,\n",
       "  gamma='auto_deprecated', kernel='rbf', max_iter=-1, shrinking=True,\n",
       "  tol=0.001, verbose=False),\n",
       "       fit_params=None, iid='warn', n_jobs=None,\n",
       "       param_grid={'C': [0.01, 0.1, 1.0, 10.0], 'gamma': [0.01, 0.1, 1.0], 'kernel': ('linear', 'rbf')},\n",
       "       pre_dispatch='2*n_jobs', refit=True, return_train_score='warn',\n",
       "       scoring='neg_mean_squared_error', verbose=0)"
      ]
     },
     "execution_count": 15,
     "metadata": {},
     "output_type": "execute_result"
    }
   ],
   "source": [
    "grid_searc_svr2_arousal = GridSearchCV(svr, params, cv = 10, scoring = 'neg_mean_squared_error')\n",
    "grid_searc_svr2_arousal.fit(train2, arousal_tr2)"
   ]
  },
  {
   "cell_type": "code",
   "execution_count": 16,
   "metadata": {},
   "outputs": [],
   "source": [
    "results_ar2 = grid_searc_svr2_arousal.cv_results_\n",
    "arousal_pred_tr2 = grid_searc_svr2_arousal.predict(train2)\n",
    "arousal_pred_ts2 = grid_searc_svr2_arousal.predict(test2)"
   ]
  },
  {
   "cell_type": "markdown",
   "metadata": {},
   "source": [
    "# SVR3"
   ]
  },
  {
   "cell_type": "code",
   "execution_count": 17,
   "metadata": {},
   "outputs": [],
   "source": [
    "data3 = df.loc[:, ['Tempo Feature1',\n",
    " 'Spectral Centroid',\n",
    " 'ZCR',\n",
    " 'Spectral Entropy',\n",
    " 'CV.7',\n",
    " 'Spectral Flux',\n",
    " 'Spectral Rolloff',\n",
    " 'MFCC.4',\n",
    " 'MFCC.2',\n",
    " 'CV.5',\n",
    " 'Entropy of Energy',\n",
    " 'MFCC.3',\n",
    " 'CV.8',\n",
    " 'Tempo Feature2',\n",
    " 'MFCC.13',\n",
    " 'Spectral Centroid_SD',\n",
    " 'ZCR_SD',\n",
    " 'Spectral Entropy_SD',\n",
    " 'CV.7_SD',\n",
    " 'Spectral Flux_SD',\n",
    " 'Spectral Rolloff_SD',\n",
    " 'MFCC.4_SD',\n",
    " 'MFCC.2_SD',\n",
    " 'CV.5_SD',\n",
    " 'Entropy of Energy_SD',\n",
    " 'MFCC.3_SD',\n",
    " 'CV.8_SD',\n",
    " 'MFCC.13_SD']]\n",
    "data_tr3 = data3.iloc[:264, :]\n",
    "data_ts3 = data3.iloc[264:, :]\n",
    "\n",
    "valence_tr3 = df.iloc[:264, 70]\n",
    "arousal_tr3 = df.iloc[:264, 71]\n",
    "arousal_ts3 = df.iloc[264:, 71]\n",
    "valence_ts3 = df.iloc[264:, 70]"
   ]
  },
  {
   "cell_type": "code",
   "execution_count": 18,
   "metadata": {},
   "outputs": [
    {
     "data": {
      "text/html": [
       "<div>\n",
       "<style scoped>\n",
       "    .dataframe tbody tr th:only-of-type {\n",
       "        vertical-align: middle;\n",
       "    }\n",
       "\n",
       "    .dataframe tbody tr th {\n",
       "        vertical-align: top;\n",
       "    }\n",
       "\n",
       "    .dataframe thead th {\n",
       "        text-align: right;\n",
       "    }\n",
       "</style>\n",
       "<table border=\"1\" class=\"dataframe\">\n",
       "  <thead>\n",
       "    <tr style=\"text-align: right;\">\n",
       "      <th></th>\n",
       "      <th>Tempo Feature1</th>\n",
       "      <th>Spectral Centroid</th>\n",
       "      <th>ZCR</th>\n",
       "      <th>Spectral Entropy</th>\n",
       "      <th>CV.7</th>\n",
       "      <th>Spectral Flux</th>\n",
       "      <th>Spectral Rolloff</th>\n",
       "      <th>MFCC.4</th>\n",
       "      <th>MFCC.2</th>\n",
       "      <th>CV.5</th>\n",
       "      <th>...</th>\n",
       "      <th>CV.7_SD</th>\n",
       "      <th>Spectral Flux_SD</th>\n",
       "      <th>Spectral Rolloff_SD</th>\n",
       "      <th>MFCC.4_SD</th>\n",
       "      <th>MFCC.2_SD</th>\n",
       "      <th>CV.5_SD</th>\n",
       "      <th>Entropy of Energy_SD</th>\n",
       "      <th>MFCC.3_SD</th>\n",
       "      <th>CV.8_SD</th>\n",
       "      <th>MFCC.13_SD</th>\n",
       "    </tr>\n",
       "    <tr>\n",
       "      <th>Song ID</th>\n",
       "      <th></th>\n",
       "      <th></th>\n",
       "      <th></th>\n",
       "      <th></th>\n",
       "      <th></th>\n",
       "      <th></th>\n",
       "      <th></th>\n",
       "      <th></th>\n",
       "      <th></th>\n",
       "      <th></th>\n",
       "      <th></th>\n",
       "      <th></th>\n",
       "      <th></th>\n",
       "      <th></th>\n",
       "      <th></th>\n",
       "      <th></th>\n",
       "      <th></th>\n",
       "      <th></th>\n",
       "      <th></th>\n",
       "      <th></th>\n",
       "      <th></th>\n",
       "    </tr>\n",
       "  </thead>\n",
       "  <tbody>\n",
       "    <tr>\n",
       "      <th>0</th>\n",
       "      <td>0.142857</td>\n",
       "      <td>0.153942</td>\n",
       "      <td>0.234463</td>\n",
       "      <td>0.305852</td>\n",
       "      <td>0.255244</td>\n",
       "      <td>0.140355</td>\n",
       "      <td>0.343998</td>\n",
       "      <td>0.539501</td>\n",
       "      <td>0.579080</td>\n",
       "      <td>0.214472</td>\n",
       "      <td>...</td>\n",
       "      <td>0.189526</td>\n",
       "      <td>0.056174</td>\n",
       "      <td>0.255495</td>\n",
       "      <td>0.344792</td>\n",
       "      <td>0.421319</td>\n",
       "      <td>0.216228</td>\n",
       "      <td>0.127116</td>\n",
       "      <td>0.312993</td>\n",
       "      <td>0.193013</td>\n",
       "      <td>0.464135</td>\n",
       "    </tr>\n",
       "    <tr>\n",
       "      <th>1</th>\n",
       "      <td>0.142857</td>\n",
       "      <td>0.136038</td>\n",
       "      <td>0.192285</td>\n",
       "      <td>0.241364</td>\n",
       "      <td>0.138679</td>\n",
       "      <td>0.107631</td>\n",
       "      <td>0.282864</td>\n",
       "      <td>0.572616</td>\n",
       "      <td>0.630659</td>\n",
       "      <td>0.128301</td>\n",
       "      <td>...</td>\n",
       "      <td>0.085899</td>\n",
       "      <td>0.039594</td>\n",
       "      <td>0.226542</td>\n",
       "      <td>0.303494</td>\n",
       "      <td>0.405967</td>\n",
       "      <td>0.099773</td>\n",
       "      <td>0.068569</td>\n",
       "      <td>0.328736</td>\n",
       "      <td>0.163944</td>\n",
       "      <td>0.319600</td>\n",
       "    </tr>\n",
       "    <tr>\n",
       "      <th>2</th>\n",
       "      <td>0.142857</td>\n",
       "      <td>0.414212</td>\n",
       "      <td>0.529244</td>\n",
       "      <td>0.759576</td>\n",
       "      <td>0.269742</td>\n",
       "      <td>0.184610</td>\n",
       "      <td>0.761827</td>\n",
       "      <td>0.056042</td>\n",
       "      <td>0.165364</td>\n",
       "      <td>0.327121</td>\n",
       "      <td>...</td>\n",
       "      <td>0.251068</td>\n",
       "      <td>0.252909</td>\n",
       "      <td>0.404832</td>\n",
       "      <td>0.666735</td>\n",
       "      <td>0.946701</td>\n",
       "      <td>0.515858</td>\n",
       "      <td>0.507194</td>\n",
       "      <td>0.688828</td>\n",
       "      <td>0.029417</td>\n",
       "      <td>0.657768</td>\n",
       "    </tr>\n",
       "    <tr>\n",
       "      <th>3</th>\n",
       "      <td>0.200000</td>\n",
       "      <td>0.117873</td>\n",
       "      <td>0.174056</td>\n",
       "      <td>0.268255</td>\n",
       "      <td>0.166928</td>\n",
       "      <td>0.119694</td>\n",
       "      <td>0.254264</td>\n",
       "      <td>0.516650</td>\n",
       "      <td>0.694776</td>\n",
       "      <td>0.125535</td>\n",
       "      <td>...</td>\n",
       "      <td>0.113021</td>\n",
       "      <td>0.039025</td>\n",
       "      <td>0.230534</td>\n",
       "      <td>0.221812</td>\n",
       "      <td>0.131085</td>\n",
       "      <td>0.127390</td>\n",
       "      <td>0.096112</td>\n",
       "      <td>0.192015</td>\n",
       "      <td>0.151309</td>\n",
       "      <td>0.309812</td>\n",
       "    </tr>\n",
       "  </tbody>\n",
       "</table>\n",
       "<p>4 rows × 28 columns</p>\n",
       "</div>"
      ],
      "text/plain": [
       "         Tempo Feature1  Spectral Centroid       ZCR  Spectral Entropy  \\\n",
       "Song ID                                                                  \n",
       "0              0.142857           0.153942  0.234463          0.305852   \n",
       "1              0.142857           0.136038  0.192285          0.241364   \n",
       "2              0.142857           0.414212  0.529244          0.759576   \n",
       "3              0.200000           0.117873  0.174056          0.268255   \n",
       "\n",
       "             CV.7  Spectral Flux  Spectral Rolloff    MFCC.4    MFCC.2  \\\n",
       "Song ID                                                                  \n",
       "0        0.255244       0.140355          0.343998  0.539501  0.579080   \n",
       "1        0.138679       0.107631          0.282864  0.572616  0.630659   \n",
       "2        0.269742       0.184610          0.761827  0.056042  0.165364   \n",
       "3        0.166928       0.119694          0.254264  0.516650  0.694776   \n",
       "\n",
       "             CV.5     ...       CV.7_SD  Spectral Flux_SD  \\\n",
       "Song ID               ...                                   \n",
       "0        0.214472     ...      0.189526          0.056174   \n",
       "1        0.128301     ...      0.085899          0.039594   \n",
       "2        0.327121     ...      0.251068          0.252909   \n",
       "3        0.125535     ...      0.113021          0.039025   \n",
       "\n",
       "         Spectral Rolloff_SD  MFCC.4_SD  MFCC.2_SD   CV.5_SD  \\\n",
       "Song ID                                                        \n",
       "0                   0.255495   0.344792   0.421319  0.216228   \n",
       "1                   0.226542   0.303494   0.405967  0.099773   \n",
       "2                   0.404832   0.666735   0.946701  0.515858   \n",
       "3                   0.230534   0.221812   0.131085  0.127390   \n",
       "\n",
       "         Entropy of Energy_SD  MFCC.3_SD   CV.8_SD  MFCC.13_SD  \n",
       "Song ID                                                         \n",
       "0                    0.127116   0.312993  0.193013    0.464135  \n",
       "1                    0.068569   0.328736  0.163944    0.319600  \n",
       "2                    0.507194   0.688828  0.029417    0.657768  \n",
       "3                    0.096112   0.192015  0.151309    0.309812  \n",
       "\n",
       "[4 rows x 28 columns]"
      ]
     },
     "execution_count": 18,
     "metadata": {},
     "output_type": "execute_result"
    }
   ],
   "source": [
    "data_tr3.head(4)"
   ]
  },
  {
   "cell_type": "code",
   "execution_count": 19,
   "metadata": {},
   "outputs": [
    {
     "name": "stderr",
     "output_type": "stream",
     "text": [
      "/home/broda/.local/lib/python3.6/site-packages/sklearn/model_selection/_search.py:841: DeprecationWarning: The default of the `iid` parameter will change from True to False in version 0.22 and will be removed in 0.24. This will change numeric results when test-set sizes are unequal.\n",
      "  DeprecationWarning)\n"
     ]
    }
   ],
   "source": [
    "train3 = data_tr3.values\n",
    "test3 = data_ts3.values\n",
    "grid_searc_svr3_valence = GridSearchCV(svr, params, cv = 10, scoring = 'neg_mean_squared_error')\n",
    "grid_searc_svr3_valence.fit(train3, valence_tr3)\n",
    "results3 = grid_searc_svr3_valence.cv_results_\n",
    "valence_pred_tr3 = grid_searc_svr3_valence.predict(train3)\n",
    "valence_pred_ts3 = grid_searc_svr3_valence.predict(test3)"
   ]
  },
  {
   "cell_type": "code",
   "execution_count": 20,
   "metadata": {},
   "outputs": [
    {
     "name": "stderr",
     "output_type": "stream",
     "text": [
      "/home/broda/.local/lib/python3.6/site-packages/sklearn/model_selection/_search.py:841: DeprecationWarning: The default of the `iid` parameter will change from True to False in version 0.22 and will be removed in 0.24. This will change numeric results when test-set sizes are unequal.\n",
      "  DeprecationWarning)\n"
     ]
    }
   ],
   "source": [
    "grid_searc_svr3_arousal = GridSearchCV(svr, params, cv = 10, scoring = 'neg_mean_squared_error')\n",
    "grid_searc_svr3_arousal.fit(train3, arousal_tr3)\n",
    "results_ar3 = grid_searc_svr3_arousal.cv_results_\n",
    "arousal_pred_tr3 = grid_searc_svr3_arousal.predict(train3)\n",
    "arousal_pred_ts3 = grid_searc_svr3_arousal.predict(test3)"
   ]
  },
  {
   "cell_type": "markdown",
   "metadata": {},
   "source": [
    "# Performance Eval"
   ]
  },
  {
   "cell_type": "code",
   "execution_count": 21,
   "metadata": {},
   "outputs": [],
   "source": [
    "from sklearn.metrics import mean_squared_error as mse\n",
    "from sklearn.metrics import mean_absolute_error as mae\n",
    "from sklearn.metrics import r2_score as r2"
   ]
  },
  {
   "cell_type": "code",
   "execution_count": 22,
   "metadata": {
    "scrolled": true
   },
   "outputs": [
    {
     "name": "stdout",
     "output_type": "stream",
     "text": [
      "1. Training Error :0.26658235214984616 Test Error :0.29535139753355927\n",
      "2. Training Error :0.29038024588827666 Test Error :0.30752205269406274\n",
      "3. Training Error :0.21559006154407323 Test Error :0.32304136602632216\n"
     ]
    }
   ],
   "source": [
    "#Arousal Error(mae) vs dataset 1,2,3 \n",
    "print('1. Training Error :' + str(mae(arousal_tr1,arousal_pred_tr1)) + ' Test Error :' + str(mae(arousal_ts1,arousal_pred_ts1)))\n",
    "print('2. Training Error :' + str(mae(arousal_tr2,arousal_pred_tr2)) + ' Test Error :' + str(mae(arousal_ts2,arousal_pred_ts2)))\n",
    "print('3. Training Error :' + str(mae(arousal_tr3,arousal_pred_tr3)) + ' Test Error :' + str(mae(arousal_ts3,arousal_pred_ts3)))"
   ]
  },
  {
   "cell_type": "code",
   "execution_count": 23,
   "metadata": {},
   "outputs": [
    {
     "name": "stdout",
     "output_type": "stream",
     "text": [
      "1. Training Error :0.1042083246989155 Test Error :0.13015516141097191\n",
      "2. Training Error :0.12013838466196361 Test Error :0.1374919448686807\n",
      "3. Training Error :0.07683444083365702 Test Error :0.17025676431375006\n"
     ]
    }
   ],
   "source": [
    "#Arousal Error(mse) vs dataset 1,2,3 \n",
    "print('1. Training Error :' + str(mse(arousal_tr1,arousal_pred_tr1)) + ' Test Error :' + str(mse(arousal_ts1,arousal_pred_ts1)))\n",
    "print('2. Training Error :' + str(mse(arousal_tr2,arousal_pred_tr2)) + ' Test Error :' + str(mse(arousal_ts2,arousal_pred_ts2)))\n",
    "print('3. Training Error :' + str(mse(arousal_tr3,arousal_pred_tr3)) + ' Test Error :' + str(mse(arousal_ts3,arousal_pred_ts3)))"
   ]
  },
  {
   "cell_type": "code",
   "execution_count": 24,
   "metadata": {},
   "outputs": [
    {
     "name": "stdout",
     "output_type": "stream",
     "text": [
      "1. Training r2 score :0.5381733219078652 Test r2 score :0.2497507137765571\n",
      "2. Training r2 score :0.4675750592853821 Test r2 score :0.20745952460933326\n",
      "3. Training r2 score :0.6594879087078944 Test r2 score :0.01859431069526518\n"
     ]
    }
   ],
   "source": [
    "#Arousal r2 score(r2) vs dataset 1,2,3 \n",
    "print('1. Training r2 score :' + str(r2(arousal_tr1,arousal_pred_tr1)) + ' Test r2 score :' + str(r2(arousal_ts1,arousal_pred_ts1)))\n",
    "print('2. Training r2 score :' + str(r2(arousal_tr2,arousal_pred_tr2)) + ' Test r2 score :' + str(r2(arousal_ts2,arousal_pred_ts2)))\n",
    "print('3. Training r2 score :' + str(r2(arousal_tr3,arousal_pred_tr3)) + ' Test r2 score :' + str(r2(arousal_ts3,arousal_pred_ts3)))"
   ]
  },
  {
   "cell_type": "code",
   "execution_count": 25,
   "metadata": {},
   "outputs": [
    {
     "name": "stdout",
     "output_type": "stream",
     "text": [
      "1. Training Error :0.11129646149995655 Test Error :0.3722677850910181\n",
      "2. Training Error :0.11400789101428573 Test Error :0.3735223059554954\n",
      "3. Training Error :0.30927026827224563 Test Error :0.3305045595806293\n"
     ]
    }
   ],
   "source": [
    "#Valence Error(mae) vs dataset 1,2,3 \n",
    "print('1. Training Error :' + str(mae(valence_tr1,valence_pred_tr1)) + ' Test Error :' + str(mae(valence_ts1,valence_pred_ts1)))\n",
    "print('2. Training Error :' + str(mae(valence_tr2,valence_pred_tr2)) + ' Test Error :' + str(mae(valence_ts2,valence_pred_ts2)))\n",
    "print('3. Training Error :' + str(mae(valence_tr3,valence_pred_tr3)) + ' Test Error :' + str(mae(valence_ts3,valence_pred_ts3)))"
   ]
  },
  {
   "cell_type": "code",
   "execution_count": 26,
   "metadata": {},
   "outputs": [
    {
     "name": "stdout",
     "output_type": "stream",
     "text": [
      "1. Training Error :0.01714291149862147 Test Error :0.18119127525898665\n",
      "2. Training Error :0.018570650902140235 Test Error :0.17961372132558265\n",
      "3. Training Error :0.16767359000414714 Test Error :0.1898487540320298\n"
     ]
    }
   ],
   "source": [
    "#Valence Error(mse) vs dataset 1,2,3 \n",
    "print('1. Training Error :' + str(mse(valence_tr1,valence_pred_tr1)) + ' Test Error :' + str(mse(valence_ts1,valence_pred_ts1)))\n",
    "print('2. Training Error :' + str(mse(valence_tr2,valence_pred_tr2)) + ' Test Error :' + str(mse(valence_ts2,valence_pred_ts2)))\n",
    "print('3. Training Error :' + str(mse(valence_tr3,valence_pred_tr3)) + ' Test Error :' + str(mse(valence_ts3,valence_pred_ts3)))"
   ]
  },
  {
   "cell_type": "code",
   "execution_count": 27,
   "metadata": {},
   "outputs": [
    {
     "name": "stdout",
     "output_type": "stream",
     "text": [
      "1. Training r2 score :0.9062572684969744 Test r2 score :0.04520807724263798\n",
      "2. Training r2 score :0.8984499487443693 Test r2 score :0.053521036854933146\n",
      "3. Training r2 score :0.08310905477339037 Test r2 score :-0.00041272205981068844\n"
     ]
    }
   ],
   "source": [
    "#Valence r2 score(r2) vs dataset 1,2,3 \n",
    "print('1. Training r2 score :' + str(r2(valence_tr1,valence_pred_tr1)) + ' Test r2 score :' + str(r2(valence_ts1,valence_pred_ts1)))\n",
    "print('2. Training r2 score :' + str(r2(valence_tr2,valence_pred_tr2)) + ' Test r2 score :' + str(r2(valence_ts2,valence_pred_ts2)))\n",
    "print('3. Training r2 score :' + str(r2(valence_tr3,valence_pred_tr3)) + ' Test r2 score :' + str(r2(valence_ts3,valence_pred_ts3)))"
   ]
  },
  {
   "cell_type": "markdown",
   "metadata": {
    "collapsed": true
   },
   "source": [
    "# Save the data for vizualization and model comparision"
   ]
  },
  {
   "cell_type": "code",
   "execution_count": 28,
   "metadata": {},
   "outputs": [],
   "source": [
    "#Arousal test data -- for viz\n",
    "np.savetxt(\"Vizdata/SVM_arousal1_groundthruth-pred.csv\", np.column_stack((arousal_ts1.values,arousal_pred_ts1)), delimiter=',', header=\"Ground truth value,Predicted value\", comments=\"\")\n",
    "np.savetxt(\"Vizdata/SVM_arousal2_groundthruth-pred.csv\", np.column_stack((arousal_ts1.values,arousal_pred_ts1)), delimiter=',', header=\"Ground truth value,Predicted value\", comments=\"\")\n",
    "np.savetxt(\"Vizdata/SVM_arousal3_groundthruth-pred.csv\", np.column_stack((arousal_ts1.values,arousal_pred_ts1)), delimiter=',', header=\"Ground truth value,Predicted value\", comments=\"\")\n",
    "#Arousal test error -- for model comp\n",
    "arousal_mse = np.column_stack((mse(arousal_ts1,arousal_pred_ts1),mse(arousal_ts2,arousal_pred_ts2),mse(arousal_ts3,arousal_pred_ts3)))\n",
    "np.savetxt(\"Compdata/SVM_arousal_performance-mse.csv\", arousal_mse, delimiter=',', header=\"MSE1,MSE2,MSE3\", comments=\"\")\n",
    "arousal_mae = np.column_stack((mae(arousal_ts1,arousal_pred_ts1),mae(arousal_ts2,arousal_pred_ts2),mae(arousal_ts3,arousal_pred_ts3)))\n",
    "np.savetxt(\"Compdata/SVM_arousal_performance-mae.csv\", arousal_mae, delimiter=',', header=\"MAE1,MAE2,MAE3\", comments=\"\")\n",
    "arousal_r2 = np.column_stack((r2(arousal_ts1,arousal_pred_ts1),r2(arousal_ts2,arousal_pred_ts2),r2(arousal_ts3,arousal_pred_ts3)))\n",
    "np.savetxt(\"Compdata/SVM_arousal_performance-r2.csv\", arousal_r2, delimiter=',', header=\"r2-1,r2-2,r2-3\", comments=\"\")"
   ]
  },
  {
   "cell_type": "code",
   "execution_count": 29,
   "metadata": {},
   "outputs": [],
   "source": [
    "#Valence test data -- for viz\n",
    "np.savetxt(\"Vizdata/SVM_valence1_groundthruth-pred.csv\", np.column_stack((valence_ts1.values,valence_pred_ts1)), delimiter=',', header=\"Ground truth value,Predicted value\", comments=\"\")\n",
    "np.savetxt(\"Vizdata/SVM_valence2_groundthruth-pred.csv\", np.column_stack((valence_ts1.values,valence_pred_ts1)), delimiter=',', header=\"Ground truth value,Predicted value\", comments=\"\")\n",
    "np.savetxt(\"Vizdata/SVM_valence3_groundthruth-pred.csv\", np.column_stack((valence_ts1.values,valence_pred_ts1)), delimiter=',', header=\"Ground truth value,Predicted value\", comments=\"\")\n",
    "#Valence test error -- for model comp\n",
    "valence_mse = np.column_stack((mse(valence_ts1,valence_pred_ts1),mse(valence_ts2,valence_pred_ts2),mse(valence_ts3,valence_pred_ts3)))\n",
    "np.savetxt(\"Compdata/SVM_valence_performance-mse.csv\", valence_mse, delimiter=',', header=\"MSE1,MSE2,MSE3\", comments=\"\")\n",
    "valence_mae = np.column_stack((mae(valence_ts1,valence_pred_ts1),mae(valence_ts2,valence_pred_ts2),mae(valence_ts3,valence_pred_ts3)))\n",
    "np.savetxt(\"Compdata/SVM_valence_performance-mae.csv\", valence_mae, delimiter=',', header=\"MAE1,MAE2,MAE3\", comments=\"\")\n",
    "valence_r2 = np.column_stack((r2(valence_ts1,valence_pred_ts1),r2(valence_ts2,valence_pred_ts2),r2(valence_ts3,valence_pred_ts3)))\n",
    "np.savetxt(\"Compdata/SVM_valence_performance-r2.csv\", valence_r2, delimiter=',', header=\"r2-1,r2-2,r2-3\", comments=\"\")"
   ]
  },
  {
   "cell_type": "markdown",
   "metadata": {},
   "source": [
    "# viz"
   ]
  },
  {
   "cell_type": "code",
   "execution_count": 32,
   "metadata": {},
   "outputs": [
    {
     "data": {
      "image/png": "[encoded data removed]",
      "text/plain": [
       "<Figure size 3600x288 with 1 Axes>"
      ]
     },
     "metadata": {},
     "output_type": "display_data"
    }
   ],
   "source": [
    "import matplotlib.pyplot as pl\n",
    "pl.plot(valence_ts2.values, 'r--',valence_pred_ts2, 'g--', linewidth =1.0)\n",
    "pl.ylim(ymin=-1,ymax=+1)\n",
    "pl.xlim(xmin=0, xmax=66)\n",
    "pl.ylabel(\"Valence\")\n",
    "pl.xlabel(\"Index\")\n",
    "fig_size = pl.rcParams[\"figure.figsize\"]\n",
    "fig_size[0] = 50\n",
    "fig_size[1] = 4\n",
    "pl.rcParams[\"figure.figsize\"] = fig_size\n",
    "pl.show()"
   ]
  },
  {
   "cell_type": "code",
   "execution_count": 31,
   "metadata": {},
   "outputs": [
    {
     "data": {
      "image/png": "[encoded data removed]",
      "text/plain": [
       "<Figure size 432x288 with 1 Axes>"
      ]
     },
     "metadata": {},
     "output_type": "display_data"
    }
   ],
   "source": [
    "pl.plot(arousal_ts1.values, 'r--',arousal_pred_ts1, 'g--', linewidth =1.0)\n",
    "pl.ylim(ymin=-1,ymax=+1)\n",
    "pl.xlim(xmin=0, xmax=66)\n",
    "pl.ylabel(\"Arousal\")\n",
    "pl.xlabel(\"Index\")\n",
    "fig_size = pl.rcParams[\"figure.figsize\"]\n",
    "fig_size[0] = 50\n",
    "fig_size[1] = 4\n",
    "pl.rcParams[\"figure.figsize\"] = fig_size\n",
    "pl.show()"
   ]
  },
  {
   "cell_type": "code",
   "execution_count": null,
   "metadata": {},
   "outputs": [],
   "source": []
  }
 ],
 "metadata": {
  "kernelspec": {
   "display_name": "Python 3",
   "language": "python",
   "name": "python3"
  },
  "language_info": {
   "codemirror_mode": {
    "name": "ipython",
    "version": 3
   },
   "file_extension": ".py",
   "mimetype": "text/x-python",
   "name": "python",
   "nbconvert_exporter": "python",
   "pygments_lexer": "ipython3",
   "version": "3.6.6"
  }
 },
 "nbformat": 4,
 "nbformat_minor": 1
}
